{
 "cells": [
  {
   "cell_type": "code",
   "execution_count": 4,
   "metadata": {},
   "outputs": [],
   "source": [
    "# Import Modules / Dependencies:\n",
    "\n",
    "import pandas as pd\n",
    "import matplotlib.pyplot as plt\n",
    "import random\n",
    "import numpy as np\n",
    "\n",
    "import sqlalchemy\n",
    "import psycopg2\n",
    "from sqlalchemy import create_engine\n",
    "\n",
    "from keys import connection_key\n"
   ]
  },
  {
   "cell_type": "code",
   "execution_count": 5,
   "metadata": {},
   "outputs": [],
   "source": [
    "# Create an engine to connect to the PostgreSQL Database:\n",
    "\n",
    "engine = create_engine('postgresql://postgres:' + connection_key + '@localhost:5432/DB_Pewlett_Hackard_Employees')"
   ]
  },
  {
   "cell_type": "code",
   "execution_count": 6,
   "metadata": {},
   "outputs": [],
   "source": [
    "# Use the engine to connect to the PostgreSQL Database:\n",
    "\n",
    "connection = engine.connect()"
   ]
  },
  {
   "cell_type": "code",
   "execution_count": null,
   "metadata": {},
   "outputs": [],
   "source": []
  },
  {
   "cell_type": "code",
   "execution_count": 7,
   "metadata": {},
   "outputs": [],
   "source": [
    "## ===========================================\n",
    "## DATAFRAME FOR TABLE # 1 \"tbl_departments\"\n",
    "## ==========================================="
   ]
  },
  {
   "cell_type": "code",
   "execution_count": 8,
   "metadata": {},
   "outputs": [],
   "source": [
    "# Load Table \"tbl_departments\" into a DataFrame:\n",
    "\n",
    "tbl_departments_df = pd.read_sql(\"SELECT * FROM tbl_departments\", connection)"
   ]
  },
  {
   "cell_type": "code",
   "execution_count": 9,
   "metadata": {},
   "outputs": [
    {
     "data": {
      "text/html": [
       "<div>\n",
       "<style scoped>\n",
       "    .dataframe tbody tr th:only-of-type {\n",
       "        vertical-align: middle;\n",
       "    }\n",
       "\n",
       "    .dataframe tbody tr th {\n",
       "        vertical-align: top;\n",
       "    }\n",
       "\n",
       "    .dataframe thead th {\n",
       "        text-align: right;\n",
       "    }\n",
       "</style>\n",
       "<table border=\"1\" class=\"dataframe\">\n",
       "  <thead>\n",
       "    <tr style=\"text-align: right;\">\n",
       "      <th></th>\n",
       "      <th>dept_number</th>\n",
       "      <th>dept_name</th>\n",
       "    </tr>\n",
       "  </thead>\n",
       "  <tbody>\n",
       "    <tr>\n",
       "      <td>0</td>\n",
       "      <td>d001</td>\n",
       "      <td>Marketing</td>\n",
       "    </tr>\n",
       "    <tr>\n",
       "      <td>1</td>\n",
       "      <td>d002</td>\n",
       "      <td>Finance</td>\n",
       "    </tr>\n",
       "    <tr>\n",
       "      <td>2</td>\n",
       "      <td>d003</td>\n",
       "      <td>Human Resources</td>\n",
       "    </tr>\n",
       "    <tr>\n",
       "      <td>3</td>\n",
       "      <td>d004</td>\n",
       "      <td>Production</td>\n",
       "    </tr>\n",
       "    <tr>\n",
       "      <td>4</td>\n",
       "      <td>d005</td>\n",
       "      <td>Development</td>\n",
       "    </tr>\n",
       "    <tr>\n",
       "      <td>5</td>\n",
       "      <td>d006</td>\n",
       "      <td>Quality Management</td>\n",
       "    </tr>\n",
       "    <tr>\n",
       "      <td>6</td>\n",
       "      <td>d007</td>\n",
       "      <td>Sales</td>\n",
       "    </tr>\n",
       "    <tr>\n",
       "      <td>7</td>\n",
       "      <td>d008</td>\n",
       "      <td>Research</td>\n",
       "    </tr>\n",
       "    <tr>\n",
       "      <td>8</td>\n",
       "      <td>d009</td>\n",
       "      <td>Customer Service</td>\n",
       "    </tr>\n",
       "  </tbody>\n",
       "</table>\n",
       "</div>"
      ],
      "text/plain": [
       "  dept_number           dept_name\n",
       "0        d001           Marketing\n",
       "1        d002             Finance\n",
       "2        d003     Human Resources\n",
       "3        d004          Production\n",
       "4        d005         Development\n",
       "5        d006  Quality Management\n",
       "6        d007               Sales\n",
       "7        d008            Research\n",
       "8        d009    Customer Service"
      ]
     },
     "execution_count": 9,
     "metadata": {},
     "output_type": "execute_result"
    }
   ],
   "source": [
    "# Display the first 10 rows of the DataFrame:\n",
    "\n",
    "tbl_departments_df.head(10)"
   ]
  },
  {
   "cell_type": "code",
   "execution_count": 10,
   "metadata": {},
   "outputs": [
    {
     "data": {
      "text/plain": [
       "(9, 2)"
      ]
     },
     "execution_count": 10,
     "metadata": {},
     "output_type": "execute_result"
    }
   ],
   "source": [
    "# Display the shape of the DataFrame:\n",
    "\n",
    "tbl_departments_df.shape"
   ]
  },
  {
   "cell_type": "code",
   "execution_count": 11,
   "metadata": {},
   "outputs": [
    {
     "data": {
      "text/plain": [
       "dept_number    object\n",
       "dept_name      object\n",
       "dtype: object"
      ]
     },
     "execution_count": 11,
     "metadata": {},
     "output_type": "execute_result"
    }
   ],
   "source": [
    "# Display the data-types of the columns in the DataFrame:\n",
    "\n",
    "tbl_departments_df.dtypes"
   ]
  },
  {
   "cell_type": "code",
   "execution_count": 12,
   "metadata": {},
   "outputs": [
    {
     "data": {
      "text/plain": [
       "<bound method DataFrame.count of   dept_number           dept_name\n",
       "0        d001           Marketing\n",
       "1        d002             Finance\n",
       "2        d003     Human Resources\n",
       "3        d004          Production\n",
       "4        d005         Development\n",
       "5        d006  Quality Management\n",
       "6        d007               Sales\n",
       "7        d008            Research\n",
       "8        d009    Customer Service>"
      ]
     },
     "execution_count": 12,
     "metadata": {},
     "output_type": "execute_result"
    }
   ],
   "source": [
    "# Display the row count for the columns in the DataFrame:\n",
    "\n",
    "tbl_departments_df.count"
   ]
  },
  {
   "cell_type": "code",
   "execution_count": 13,
   "metadata": {},
   "outputs": [
    {
     "data": {
      "text/plain": [
       "dept_number    0\n",
       "dept_name      0\n",
       "dtype: int64"
      ]
     },
     "execution_count": 13,
     "metadata": {},
     "output_type": "execute_result"
    }
   ],
   "source": [
    "# Display the count of NULL values for each column in the DataFrame:\n",
    "\n",
    "tbl_departments_df.isnull().sum()"
   ]
  },
  {
   "cell_type": "code",
   "execution_count": 14,
   "metadata": {},
   "outputs": [
    {
     "data": {
      "text/plain": [
       "0"
      ]
     },
     "execution_count": 14,
     "metadata": {},
     "output_type": "execute_result"
    }
   ],
   "source": [
    "# Display the total count of NULL values across all columns in the DataFrame:\n",
    "\n",
    "tbl_departments_df.isnull().sum().sum()"
   ]
  },
  {
   "cell_type": "code",
   "execution_count": 15,
   "metadata": {},
   "outputs": [],
   "source": [
    "# There are no NULL Values to replace in the DataFrame \"tbl_departments_df\""
   ]
  },
  {
   "cell_type": "code",
   "execution_count": null,
   "metadata": {},
   "outputs": [],
   "source": []
  },
  {
   "cell_type": "code",
   "execution_count": 16,
   "metadata": {},
   "outputs": [],
   "source": [
    "## ===========================================\n",
    "## DATAFRAME FOR TABLE # 2 \"tbl_employees\"\n",
    "## ==========================================="
   ]
  },
  {
   "cell_type": "code",
   "execution_count": 17,
   "metadata": {},
   "outputs": [],
   "source": [
    "# Load Table \"tbl_employees\" into a DataFrame:\n",
    "\n",
    "tbl_employees_df = pd.read_sql(\"SELECT * FROM tbl_employees\", connection)"
   ]
  },
  {
   "cell_type": "code",
   "execution_count": 18,
   "metadata": {},
   "outputs": [
    {
     "data": {
      "text/html": [
       "<div>\n",
       "<style scoped>\n",
       "    .dataframe tbody tr th:only-of-type {\n",
       "        vertical-align: middle;\n",
       "    }\n",
       "\n",
       "    .dataframe tbody tr th {\n",
       "        vertical-align: top;\n",
       "    }\n",
       "\n",
       "    .dataframe thead th {\n",
       "        text-align: right;\n",
       "    }\n",
       "</style>\n",
       "<table border=\"1\" class=\"dataframe\">\n",
       "  <thead>\n",
       "    <tr style=\"text-align: right;\">\n",
       "      <th></th>\n",
       "      <th>emp_number</th>\n",
       "      <th>emp_birth_date</th>\n",
       "      <th>emp_first_name</th>\n",
       "      <th>emp_last_name</th>\n",
       "      <th>emp_gender</th>\n",
       "      <th>emp_hire_date</th>\n",
       "    </tr>\n",
       "  </thead>\n",
       "  <tbody>\n",
       "    <tr>\n",
       "      <td>0</td>\n",
       "      <td>10001</td>\n",
       "      <td>1953-09-02</td>\n",
       "      <td>Georgi</td>\n",
       "      <td>Facello</td>\n",
       "      <td>M</td>\n",
       "      <td>1986-06-26</td>\n",
       "    </tr>\n",
       "    <tr>\n",
       "      <td>1</td>\n",
       "      <td>10002</td>\n",
       "      <td>1964-06-02</td>\n",
       "      <td>Bezalel</td>\n",
       "      <td>Simmel</td>\n",
       "      <td>F</td>\n",
       "      <td>1985-11-21</td>\n",
       "    </tr>\n",
       "    <tr>\n",
       "      <td>2</td>\n",
       "      <td>10003</td>\n",
       "      <td>1959-12-03</td>\n",
       "      <td>Parto</td>\n",
       "      <td>Bamford</td>\n",
       "      <td>M</td>\n",
       "      <td>1986-08-28</td>\n",
       "    </tr>\n",
       "    <tr>\n",
       "      <td>3</td>\n",
       "      <td>10004</td>\n",
       "      <td>1954-05-01</td>\n",
       "      <td>Chirstian</td>\n",
       "      <td>Koblick</td>\n",
       "      <td>M</td>\n",
       "      <td>1986-12-01</td>\n",
       "    </tr>\n",
       "    <tr>\n",
       "      <td>4</td>\n",
       "      <td>10005</td>\n",
       "      <td>1955-01-21</td>\n",
       "      <td>Kyoichi</td>\n",
       "      <td>Maliniak</td>\n",
       "      <td>M</td>\n",
       "      <td>1989-09-12</td>\n",
       "    </tr>\n",
       "    <tr>\n",
       "      <td>5</td>\n",
       "      <td>10006</td>\n",
       "      <td>1953-04-20</td>\n",
       "      <td>Anneke</td>\n",
       "      <td>Preusig</td>\n",
       "      <td>F</td>\n",
       "      <td>1989-06-02</td>\n",
       "    </tr>\n",
       "    <tr>\n",
       "      <td>6</td>\n",
       "      <td>10007</td>\n",
       "      <td>1957-05-23</td>\n",
       "      <td>Tzvetan</td>\n",
       "      <td>Zielinski</td>\n",
       "      <td>F</td>\n",
       "      <td>1989-02-10</td>\n",
       "    </tr>\n",
       "    <tr>\n",
       "      <td>7</td>\n",
       "      <td>10008</td>\n",
       "      <td>1958-02-19</td>\n",
       "      <td>Saniya</td>\n",
       "      <td>Kalloufi</td>\n",
       "      <td>M</td>\n",
       "      <td>1994-09-15</td>\n",
       "    </tr>\n",
       "    <tr>\n",
       "      <td>8</td>\n",
       "      <td>10009</td>\n",
       "      <td>1952-04-19</td>\n",
       "      <td>Sumant</td>\n",
       "      <td>Peac</td>\n",
       "      <td>F</td>\n",
       "      <td>1985-02-18</td>\n",
       "    </tr>\n",
       "    <tr>\n",
       "      <td>9</td>\n",
       "      <td>10010</td>\n",
       "      <td>1963-06-01</td>\n",
       "      <td>Duangkaew</td>\n",
       "      <td>Piveteau</td>\n",
       "      <td>F</td>\n",
       "      <td>1989-08-24</td>\n",
       "    </tr>\n",
       "  </tbody>\n",
       "</table>\n",
       "</div>"
      ],
      "text/plain": [
       "   emp_number emp_birth_date emp_first_name emp_last_name emp_gender  \\\n",
       "0       10001     1953-09-02         Georgi       Facello          M   \n",
       "1       10002     1964-06-02        Bezalel        Simmel          F   \n",
       "2       10003     1959-12-03          Parto       Bamford          M   \n",
       "3       10004     1954-05-01      Chirstian       Koblick          M   \n",
       "4       10005     1955-01-21        Kyoichi      Maliniak          M   \n",
       "5       10006     1953-04-20         Anneke       Preusig          F   \n",
       "6       10007     1957-05-23        Tzvetan     Zielinski          F   \n",
       "7       10008     1958-02-19         Saniya      Kalloufi          M   \n",
       "8       10009     1952-04-19         Sumant          Peac          F   \n",
       "9       10010     1963-06-01      Duangkaew      Piveteau          F   \n",
       "\n",
       "  emp_hire_date  \n",
       "0    1986-06-26  \n",
       "1    1985-11-21  \n",
       "2    1986-08-28  \n",
       "3    1986-12-01  \n",
       "4    1989-09-12  \n",
       "5    1989-06-02  \n",
       "6    1989-02-10  \n",
       "7    1994-09-15  \n",
       "8    1985-02-18  \n",
       "9    1989-08-24  "
      ]
     },
     "execution_count": 18,
     "metadata": {},
     "output_type": "execute_result"
    }
   ],
   "source": [
    "# Display the first 10 rows of the DataFrame:\n",
    "\n",
    "tbl_employees_df.head(10)"
   ]
  },
  {
   "cell_type": "code",
   "execution_count": 19,
   "metadata": {},
   "outputs": [
    {
     "data": {
      "text/plain": [
       "(300024, 6)"
      ]
     },
     "execution_count": 19,
     "metadata": {},
     "output_type": "execute_result"
    }
   ],
   "source": [
    "# Display the shape of the DataFrame:\n",
    "\n",
    "tbl_employees_df.shape"
   ]
  },
  {
   "cell_type": "code",
   "execution_count": 20,
   "metadata": {},
   "outputs": [
    {
     "data": {
      "text/plain": [
       "emp_number         int64\n",
       "emp_birth_date    object\n",
       "emp_first_name    object\n",
       "emp_last_name     object\n",
       "emp_gender        object\n",
       "emp_hire_date     object\n",
       "dtype: object"
      ]
     },
     "execution_count": 20,
     "metadata": {},
     "output_type": "execute_result"
    }
   ],
   "source": [
    "# Display the data-types of the columns in the DataFrame:\n",
    "\n",
    "tbl_employees_df.dtypes"
   ]
  },
  {
   "cell_type": "code",
   "execution_count": 21,
   "metadata": {},
   "outputs": [
    {
     "data": {
      "text/plain": [
       "emp_number        300024\n",
       "emp_birth_date    300024\n",
       "emp_first_name    300024\n",
       "emp_last_name     300024\n",
       "emp_gender        300024\n",
       "emp_hire_date     300024\n",
       "dtype: int64"
      ]
     },
     "execution_count": 21,
     "metadata": {},
     "output_type": "execute_result"
    }
   ],
   "source": [
    "# Display the row count for the columns in the DataFrame:\n",
    "\n",
    "tbl_employees_df.count()"
   ]
  },
  {
   "cell_type": "code",
   "execution_count": 22,
   "metadata": {},
   "outputs": [
    {
     "data": {
      "text/plain": [
       "emp_number        0\n",
       "emp_birth_date    0\n",
       "emp_first_name    0\n",
       "emp_last_name     0\n",
       "emp_gender        0\n",
       "emp_hire_date     0\n",
       "dtype: int64"
      ]
     },
     "execution_count": 22,
     "metadata": {},
     "output_type": "execute_result"
    }
   ],
   "source": [
    "# Display the count of NULL values for each column in the DataFrame:\n",
    "\n",
    "tbl_employees_df.isnull().sum()"
   ]
  },
  {
   "cell_type": "code",
   "execution_count": 23,
   "metadata": {},
   "outputs": [
    {
     "data": {
      "text/plain": [
       "0"
      ]
     },
     "execution_count": 23,
     "metadata": {},
     "output_type": "execute_result"
    }
   ],
   "source": [
    "# Display the total count of NULL values across all columns in the DataFrame:\n",
    "\n",
    "tbl_employees_df.isnull().sum().sum()"
   ]
  },
  {
   "cell_type": "code",
   "execution_count": 24,
   "metadata": {},
   "outputs": [],
   "source": [
    "# There are no NULL Values to replace in the DataFrame \"tbl_employees_df\""
   ]
  },
  {
   "cell_type": "code",
   "execution_count": null,
   "metadata": {},
   "outputs": [],
   "source": []
  },
  {
   "cell_type": "code",
   "execution_count": 25,
   "metadata": {},
   "outputs": [],
   "source": [
    "## ===========================================\n",
    "## DATAFRAME FOR TABLE # 3 \"tbl_salaries\"\n",
    "## ==========================================="
   ]
  },
  {
   "cell_type": "code",
   "execution_count": 26,
   "metadata": {},
   "outputs": [],
   "source": [
    "# Load Table \"tbl_salaries\" into a DataFrame:\n",
    "\n",
    "tbl_salaries_df = pd.read_sql(\"SELECT * FROM tbl_salaries\", connection)"
   ]
  },
  {
   "cell_type": "code",
   "execution_count": 27,
   "metadata": {},
   "outputs": [
    {
     "data": {
      "text/html": [
       "<div>\n",
       "<style scoped>\n",
       "    .dataframe tbody tr th:only-of-type {\n",
       "        vertical-align: middle;\n",
       "    }\n",
       "\n",
       "    .dataframe tbody tr th {\n",
       "        vertical-align: top;\n",
       "    }\n",
       "\n",
       "    .dataframe thead th {\n",
       "        text-align: right;\n",
       "    }\n",
       "</style>\n",
       "<table border=\"1\" class=\"dataframe\">\n",
       "  <thead>\n",
       "    <tr style=\"text-align: right;\">\n",
       "      <th></th>\n",
       "      <th>emp_number</th>\n",
       "      <th>emp_salary</th>\n",
       "      <th>sal_from_date</th>\n",
       "      <th>sal_to_date</th>\n",
       "    </tr>\n",
       "  </thead>\n",
       "  <tbody>\n",
       "    <tr>\n",
       "      <td>0</td>\n",
       "      <td>10001</td>\n",
       "      <td>60117</td>\n",
       "      <td>1986-06-26</td>\n",
       "      <td>1987-06-26</td>\n",
       "    </tr>\n",
       "    <tr>\n",
       "      <td>1</td>\n",
       "      <td>10002</td>\n",
       "      <td>65828</td>\n",
       "      <td>1996-08-03</td>\n",
       "      <td>1997-08-03</td>\n",
       "    </tr>\n",
       "    <tr>\n",
       "      <td>2</td>\n",
       "      <td>10003</td>\n",
       "      <td>40006</td>\n",
       "      <td>1995-12-03</td>\n",
       "      <td>1996-12-02</td>\n",
       "    </tr>\n",
       "    <tr>\n",
       "      <td>3</td>\n",
       "      <td>10004</td>\n",
       "      <td>40054</td>\n",
       "      <td>1986-12-01</td>\n",
       "      <td>1987-12-01</td>\n",
       "    </tr>\n",
       "    <tr>\n",
       "      <td>4</td>\n",
       "      <td>10005</td>\n",
       "      <td>78228</td>\n",
       "      <td>1989-09-12</td>\n",
       "      <td>1990-09-12</td>\n",
       "    </tr>\n",
       "    <tr>\n",
       "      <td>5</td>\n",
       "      <td>10006</td>\n",
       "      <td>40000</td>\n",
       "      <td>1990-08-05</td>\n",
       "      <td>1991-08-05</td>\n",
       "    </tr>\n",
       "    <tr>\n",
       "      <td>6</td>\n",
       "      <td>10007</td>\n",
       "      <td>56724</td>\n",
       "      <td>1989-02-10</td>\n",
       "      <td>1990-02-10</td>\n",
       "    </tr>\n",
       "    <tr>\n",
       "      <td>7</td>\n",
       "      <td>10008</td>\n",
       "      <td>46671</td>\n",
       "      <td>1998-03-11</td>\n",
       "      <td>1999-03-11</td>\n",
       "    </tr>\n",
       "    <tr>\n",
       "      <td>8</td>\n",
       "      <td>10009</td>\n",
       "      <td>60929</td>\n",
       "      <td>1985-02-18</td>\n",
       "      <td>1986-02-18</td>\n",
       "    </tr>\n",
       "    <tr>\n",
       "      <td>9</td>\n",
       "      <td>10010</td>\n",
       "      <td>72488</td>\n",
       "      <td>1996-11-24</td>\n",
       "      <td>1997-11-24</td>\n",
       "    </tr>\n",
       "  </tbody>\n",
       "</table>\n",
       "</div>"
      ],
      "text/plain": [
       "   emp_number  emp_salary sal_from_date sal_to_date\n",
       "0       10001       60117    1986-06-26  1987-06-26\n",
       "1       10002       65828    1996-08-03  1997-08-03\n",
       "2       10003       40006    1995-12-03  1996-12-02\n",
       "3       10004       40054    1986-12-01  1987-12-01\n",
       "4       10005       78228    1989-09-12  1990-09-12\n",
       "5       10006       40000    1990-08-05  1991-08-05\n",
       "6       10007       56724    1989-02-10  1990-02-10\n",
       "7       10008       46671    1998-03-11  1999-03-11\n",
       "8       10009       60929    1985-02-18  1986-02-18\n",
       "9       10010       72488    1996-11-24  1997-11-24"
      ]
     },
     "execution_count": 27,
     "metadata": {},
     "output_type": "execute_result"
    }
   ],
   "source": [
    "# Display the first 10 rows of the DataFrame:\n",
    "\n",
    "tbl_salaries_df.head(10)"
   ]
  },
  {
   "cell_type": "code",
   "execution_count": 28,
   "metadata": {},
   "outputs": [
    {
     "data": {
      "text/plain": [
       "(300024, 4)"
      ]
     },
     "execution_count": 28,
     "metadata": {},
     "output_type": "execute_result"
    }
   ],
   "source": [
    "# Display the shape of the DataFrame:\n",
    "\n",
    "tbl_salaries_df.shape"
   ]
  },
  {
   "cell_type": "code",
   "execution_count": 29,
   "metadata": {},
   "outputs": [
    {
     "data": {
      "text/plain": [
       "emp_number        int64\n",
       "emp_salary        int64\n",
       "sal_from_date    object\n",
       "sal_to_date      object\n",
       "dtype: object"
      ]
     },
     "execution_count": 29,
     "metadata": {},
     "output_type": "execute_result"
    }
   ],
   "source": [
    "# Display the data-types of the columns in the DataFrame:\n",
    "\n",
    "tbl_salaries_df.dtypes"
   ]
  },
  {
   "cell_type": "code",
   "execution_count": 30,
   "metadata": {},
   "outputs": [
    {
     "data": {
      "text/plain": [
       "emp_number       300024\n",
       "emp_salary       300024\n",
       "sal_from_date    300024\n",
       "sal_to_date      300024\n",
       "dtype: int64"
      ]
     },
     "execution_count": 30,
     "metadata": {},
     "output_type": "execute_result"
    }
   ],
   "source": [
    "# Display the row count for the columns in the DataFrame:\n",
    "\n",
    "tbl_salaries_df.count()"
   ]
  },
  {
   "cell_type": "code",
   "execution_count": 31,
   "metadata": {},
   "outputs": [
    {
     "data": {
      "text/plain": [
       "emp_number       0\n",
       "emp_salary       0\n",
       "sal_from_date    0\n",
       "sal_to_date      0\n",
       "dtype: int64"
      ]
     },
     "execution_count": 31,
     "metadata": {},
     "output_type": "execute_result"
    }
   ],
   "source": [
    "# Display the count of NULL values for each column in the DataFrame:\n",
    "\n",
    "tbl_salaries_df.isnull().sum()"
   ]
  },
  {
   "cell_type": "code",
   "execution_count": 32,
   "metadata": {},
   "outputs": [
    {
     "data": {
      "text/plain": [
       "0"
      ]
     },
     "execution_count": 32,
     "metadata": {},
     "output_type": "execute_result"
    }
   ],
   "source": [
    "# Display the count of NULL values for each column in the DataFrame:\n",
    "\n",
    "tbl_salaries_df.isnull().sum().sum()"
   ]
  },
  {
   "cell_type": "code",
   "execution_count": 33,
   "metadata": {},
   "outputs": [],
   "source": [
    "# There are no NULL Values to replace in the DataFrame \"tbl_salaries_df\""
   ]
  },
  {
   "cell_type": "code",
   "execution_count": null,
   "metadata": {},
   "outputs": [],
   "source": []
  },
  {
   "cell_type": "code",
   "execution_count": 34,
   "metadata": {},
   "outputs": [],
   "source": [
    "## ===========================================\n",
    "## DATAFRAME FOR TABLE # 4 \"tbl_titles\"\n",
    "## ==========================================="
   ]
  },
  {
   "cell_type": "code",
   "execution_count": 35,
   "metadata": {},
   "outputs": [],
   "source": [
    "# Load Table \"tbl_titles\" into a DataFrame:\n",
    "\n",
    "tbl_titles_df = pd.read_sql(\"SELECT * FROM tbl_titles\", connection)"
   ]
  },
  {
   "cell_type": "code",
   "execution_count": 36,
   "metadata": {},
   "outputs": [
    {
     "data": {
      "text/html": [
       "<div>\n",
       "<style scoped>\n",
       "    .dataframe tbody tr th:only-of-type {\n",
       "        vertical-align: middle;\n",
       "    }\n",
       "\n",
       "    .dataframe tbody tr th {\n",
       "        vertical-align: top;\n",
       "    }\n",
       "\n",
       "    .dataframe thead th {\n",
       "        text-align: right;\n",
       "    }\n",
       "</style>\n",
       "<table border=\"1\" class=\"dataframe\">\n",
       "  <thead>\n",
       "    <tr style=\"text-align: right;\">\n",
       "      <th></th>\n",
       "      <th>emp_number</th>\n",
       "      <th>emp_title</th>\n",
       "      <th>ttl_from_date</th>\n",
       "      <th>ttl_to_date</th>\n",
       "    </tr>\n",
       "  </thead>\n",
       "  <tbody>\n",
       "    <tr>\n",
       "      <td>0</td>\n",
       "      <td>10001</td>\n",
       "      <td>Senior Engineer</td>\n",
       "      <td>1986-06-26</td>\n",
       "      <td>9999-01-01</td>\n",
       "    </tr>\n",
       "    <tr>\n",
       "      <td>1</td>\n",
       "      <td>10002</td>\n",
       "      <td>Staff</td>\n",
       "      <td>1996-08-03</td>\n",
       "      <td>9999-01-01</td>\n",
       "    </tr>\n",
       "    <tr>\n",
       "      <td>2</td>\n",
       "      <td>10003</td>\n",
       "      <td>Senior Engineer</td>\n",
       "      <td>1995-12-03</td>\n",
       "      <td>9999-01-01</td>\n",
       "    </tr>\n",
       "    <tr>\n",
       "      <td>3</td>\n",
       "      <td>10004</td>\n",
       "      <td>Engineer</td>\n",
       "      <td>1986-12-01</td>\n",
       "      <td>1995-12-01</td>\n",
       "    </tr>\n",
       "    <tr>\n",
       "      <td>4</td>\n",
       "      <td>10004</td>\n",
       "      <td>Senior Engineer</td>\n",
       "      <td>1995-12-01</td>\n",
       "      <td>9999-01-01</td>\n",
       "    </tr>\n",
       "    <tr>\n",
       "      <td>5</td>\n",
       "      <td>10005</td>\n",
       "      <td>Senior Staff</td>\n",
       "      <td>1996-09-12</td>\n",
       "      <td>9999-01-01</td>\n",
       "    </tr>\n",
       "    <tr>\n",
       "      <td>6</td>\n",
       "      <td>10005</td>\n",
       "      <td>Staff</td>\n",
       "      <td>1989-09-12</td>\n",
       "      <td>1996-09-12</td>\n",
       "    </tr>\n",
       "    <tr>\n",
       "      <td>7</td>\n",
       "      <td>10006</td>\n",
       "      <td>Senior Engineer</td>\n",
       "      <td>1990-08-05</td>\n",
       "      <td>9999-01-01</td>\n",
       "    </tr>\n",
       "    <tr>\n",
       "      <td>8</td>\n",
       "      <td>10007</td>\n",
       "      <td>Senior Staff</td>\n",
       "      <td>1996-02-11</td>\n",
       "      <td>9999-01-01</td>\n",
       "    </tr>\n",
       "    <tr>\n",
       "      <td>9</td>\n",
       "      <td>10007</td>\n",
       "      <td>Staff</td>\n",
       "      <td>1989-02-10</td>\n",
       "      <td>1996-02-11</td>\n",
       "    </tr>\n",
       "  </tbody>\n",
       "</table>\n",
       "</div>"
      ],
      "text/plain": [
       "   emp_number        emp_title ttl_from_date ttl_to_date\n",
       "0       10001  Senior Engineer    1986-06-26  9999-01-01\n",
       "1       10002            Staff    1996-08-03  9999-01-01\n",
       "2       10003  Senior Engineer    1995-12-03  9999-01-01\n",
       "3       10004         Engineer    1986-12-01  1995-12-01\n",
       "4       10004  Senior Engineer    1995-12-01  9999-01-01\n",
       "5       10005     Senior Staff    1996-09-12  9999-01-01\n",
       "6       10005            Staff    1989-09-12  1996-09-12\n",
       "7       10006  Senior Engineer    1990-08-05  9999-01-01\n",
       "8       10007     Senior Staff    1996-02-11  9999-01-01\n",
       "9       10007            Staff    1989-02-10  1996-02-11"
      ]
     },
     "execution_count": 36,
     "metadata": {},
     "output_type": "execute_result"
    }
   ],
   "source": [
    "# Display the first 10 rows of the DataFrame:\n",
    "\n",
    "tbl_titles_df.head(10)"
   ]
  },
  {
   "cell_type": "code",
   "execution_count": 37,
   "metadata": {},
   "outputs": [
    {
     "data": {
      "text/plain": [
       "(443308, 4)"
      ]
     },
     "execution_count": 37,
     "metadata": {},
     "output_type": "execute_result"
    }
   ],
   "source": [
    "# Display the shape of the DataFrame:\n",
    "\n",
    "tbl_titles_df.shape"
   ]
  },
  {
   "cell_type": "code",
   "execution_count": 38,
   "metadata": {},
   "outputs": [
    {
     "data": {
      "text/plain": [
       "emp_number        int64\n",
       "emp_title        object\n",
       "ttl_from_date    object\n",
       "ttl_to_date      object\n",
       "dtype: object"
      ]
     },
     "execution_count": 38,
     "metadata": {},
     "output_type": "execute_result"
    }
   ],
   "source": [
    "# Display the data-types of the columns in the DataFrame:\n",
    "\n",
    "tbl_titles_df.dtypes"
   ]
  },
  {
   "cell_type": "code",
   "execution_count": 39,
   "metadata": {},
   "outputs": [
    {
     "data": {
      "text/plain": [
       "emp_number       443308\n",
       "emp_title        443308\n",
       "ttl_from_date    443308\n",
       "ttl_to_date      443308\n",
       "dtype: int64"
      ]
     },
     "execution_count": 39,
     "metadata": {},
     "output_type": "execute_result"
    }
   ],
   "source": [
    "# Display the row count for the columns in the DataFrame:\n",
    "\n",
    "tbl_titles_df.count()"
   ]
  },
  {
   "cell_type": "code",
   "execution_count": 40,
   "metadata": {},
   "outputs": [
    {
     "data": {
      "text/plain": [
       "emp_number       0\n",
       "emp_title        0\n",
       "ttl_from_date    0\n",
       "ttl_to_date      0\n",
       "dtype: int64"
      ]
     },
     "execution_count": 40,
     "metadata": {},
     "output_type": "execute_result"
    }
   ],
   "source": [
    "# Display the count of NULL values for each column in the DataFrame:\n",
    "\n",
    "tbl_titles_df.isnull().sum()"
   ]
  },
  {
   "cell_type": "code",
   "execution_count": 41,
   "metadata": {},
   "outputs": [
    {
     "data": {
      "text/plain": [
       "0"
      ]
     },
     "execution_count": 41,
     "metadata": {},
     "output_type": "execute_result"
    }
   ],
   "source": [
    "# Display the count of NULL values for each column in the DataFrame:\n",
    "\n",
    "tbl_titles_df.isnull().sum().sum()"
   ]
  },
  {
   "cell_type": "code",
   "execution_count": 42,
   "metadata": {},
   "outputs": [],
   "source": [
    "# There are no NULL Values to replace in the DataFrame \"tbl_titles_df\""
   ]
  },
  {
   "cell_type": "code",
   "execution_count": null,
   "metadata": {},
   "outputs": [],
   "source": []
  },
  {
   "cell_type": "code",
   "execution_count": 43,
   "metadata": {},
   "outputs": [],
   "source": [
    "## ===========================================\n",
    "## DATAFRAME FOR TABLE # 5 \"tbl_department_employees\"\n",
    "## ==========================================="
   ]
  },
  {
   "cell_type": "code",
   "execution_count": 44,
   "metadata": {},
   "outputs": [],
   "source": [
    "# Load Table \"tbl_department_employees\" into a DataFrame:\n",
    "\n",
    "tbl_department_employees_df = pd.read_sql(\"SELECT * FROM tbl_department_employees\", connection)"
   ]
  },
  {
   "cell_type": "code",
   "execution_count": 45,
   "metadata": {},
   "outputs": [
    {
     "data": {
      "text/html": [
       "<div>\n",
       "<style scoped>\n",
       "    .dataframe tbody tr th:only-of-type {\n",
       "        vertical-align: middle;\n",
       "    }\n",
       "\n",
       "    .dataframe tbody tr th {\n",
       "        vertical-align: top;\n",
       "    }\n",
       "\n",
       "    .dataframe thead th {\n",
       "        text-align: right;\n",
       "    }\n",
       "</style>\n",
       "<table border=\"1\" class=\"dataframe\">\n",
       "  <thead>\n",
       "    <tr style=\"text-align: right;\">\n",
       "      <th></th>\n",
       "      <th>emp_number</th>\n",
       "      <th>dept_number</th>\n",
       "      <th>dept_emp_from_date</th>\n",
       "      <th>dept_emp_to_date</th>\n",
       "    </tr>\n",
       "  </thead>\n",
       "  <tbody>\n",
       "    <tr>\n",
       "      <td>0</td>\n",
       "      <td>10001</td>\n",
       "      <td>d005</td>\n",
       "      <td>1986-06-26</td>\n",
       "      <td>9999-01-01</td>\n",
       "    </tr>\n",
       "    <tr>\n",
       "      <td>1</td>\n",
       "      <td>10002</td>\n",
       "      <td>d007</td>\n",
       "      <td>1996-08-03</td>\n",
       "      <td>9999-01-01</td>\n",
       "    </tr>\n",
       "    <tr>\n",
       "      <td>2</td>\n",
       "      <td>10003</td>\n",
       "      <td>d004</td>\n",
       "      <td>1995-12-03</td>\n",
       "      <td>9999-01-01</td>\n",
       "    </tr>\n",
       "    <tr>\n",
       "      <td>3</td>\n",
       "      <td>10004</td>\n",
       "      <td>d004</td>\n",
       "      <td>1986-12-01</td>\n",
       "      <td>9999-01-01</td>\n",
       "    </tr>\n",
       "    <tr>\n",
       "      <td>4</td>\n",
       "      <td>10005</td>\n",
       "      <td>d003</td>\n",
       "      <td>1989-09-12</td>\n",
       "      <td>9999-01-01</td>\n",
       "    </tr>\n",
       "    <tr>\n",
       "      <td>5</td>\n",
       "      <td>10006</td>\n",
       "      <td>d005</td>\n",
       "      <td>1990-08-05</td>\n",
       "      <td>9999-01-01</td>\n",
       "    </tr>\n",
       "    <tr>\n",
       "      <td>6</td>\n",
       "      <td>10007</td>\n",
       "      <td>d008</td>\n",
       "      <td>1989-02-10</td>\n",
       "      <td>9999-01-01</td>\n",
       "    </tr>\n",
       "    <tr>\n",
       "      <td>7</td>\n",
       "      <td>10008</td>\n",
       "      <td>d005</td>\n",
       "      <td>1998-03-11</td>\n",
       "      <td>2000-07-31</td>\n",
       "    </tr>\n",
       "    <tr>\n",
       "      <td>8</td>\n",
       "      <td>10009</td>\n",
       "      <td>d006</td>\n",
       "      <td>1985-02-18</td>\n",
       "      <td>9999-01-01</td>\n",
       "    </tr>\n",
       "    <tr>\n",
       "      <td>9</td>\n",
       "      <td>10010</td>\n",
       "      <td>d004</td>\n",
       "      <td>1996-11-24</td>\n",
       "      <td>2000-06-26</td>\n",
       "    </tr>\n",
       "  </tbody>\n",
       "</table>\n",
       "</div>"
      ],
      "text/plain": [
       "   emp_number dept_number dept_emp_from_date dept_emp_to_date\n",
       "0       10001        d005         1986-06-26       9999-01-01\n",
       "1       10002        d007         1996-08-03       9999-01-01\n",
       "2       10003        d004         1995-12-03       9999-01-01\n",
       "3       10004        d004         1986-12-01       9999-01-01\n",
       "4       10005        d003         1989-09-12       9999-01-01\n",
       "5       10006        d005         1990-08-05       9999-01-01\n",
       "6       10007        d008         1989-02-10       9999-01-01\n",
       "7       10008        d005         1998-03-11       2000-07-31\n",
       "8       10009        d006         1985-02-18       9999-01-01\n",
       "9       10010        d004         1996-11-24       2000-06-26"
      ]
     },
     "execution_count": 45,
     "metadata": {},
     "output_type": "execute_result"
    }
   ],
   "source": [
    "# Display the first 10 rows of the DataFrame:\n",
    "\n",
    "tbl_department_employees_df.head(10)"
   ]
  },
  {
   "cell_type": "code",
   "execution_count": 46,
   "metadata": {},
   "outputs": [
    {
     "data": {
      "text/plain": [
       "(331603, 4)"
      ]
     },
     "execution_count": 46,
     "metadata": {},
     "output_type": "execute_result"
    }
   ],
   "source": [
    "# Display the shape of the DataFrame:\n",
    "\n",
    "tbl_department_employees_df.shape"
   ]
  },
  {
   "cell_type": "code",
   "execution_count": 47,
   "metadata": {},
   "outputs": [
    {
     "data": {
      "text/plain": [
       "emp_number             int64\n",
       "dept_number           object\n",
       "dept_emp_from_date    object\n",
       "dept_emp_to_date      object\n",
       "dtype: object"
      ]
     },
     "execution_count": 47,
     "metadata": {},
     "output_type": "execute_result"
    }
   ],
   "source": [
    "# Display the data-types of the columns in the DataFrame:\n",
    "\n",
    "tbl_department_employees_df.dtypes"
   ]
  },
  {
   "cell_type": "code",
   "execution_count": 48,
   "metadata": {},
   "outputs": [
    {
     "data": {
      "text/plain": [
       "emp_number            331603\n",
       "dept_number           331603\n",
       "dept_emp_from_date    331603\n",
       "dept_emp_to_date      331603\n",
       "dtype: int64"
      ]
     },
     "execution_count": 48,
     "metadata": {},
     "output_type": "execute_result"
    }
   ],
   "source": [
    "# Display the row count for the columns in the DataFrame:\n",
    "\n",
    "tbl_department_employees_df.count()"
   ]
  },
  {
   "cell_type": "code",
   "execution_count": 49,
   "metadata": {},
   "outputs": [
    {
     "data": {
      "text/plain": [
       "emp_number            0\n",
       "dept_number           0\n",
       "dept_emp_from_date    0\n",
       "dept_emp_to_date      0\n",
       "dtype: int64"
      ]
     },
     "execution_count": 49,
     "metadata": {},
     "output_type": "execute_result"
    }
   ],
   "source": [
    "# Display the count of NULL values for each column in the DataFrame:\n",
    "\n",
    "tbl_department_employees_df.isnull().sum()"
   ]
  },
  {
   "cell_type": "code",
   "execution_count": 50,
   "metadata": {},
   "outputs": [
    {
     "data": {
      "text/plain": [
       "0"
      ]
     },
     "execution_count": 50,
     "metadata": {},
     "output_type": "execute_result"
    }
   ],
   "source": [
    "# Display the count of NULL values for each column in the DataFrame:\n",
    "\n",
    "tbl_department_employees_df.isnull().sum().sum()"
   ]
  },
  {
   "cell_type": "code",
   "execution_count": 51,
   "metadata": {},
   "outputs": [],
   "source": [
    "# There are no NULL Values to replace in the DataFrame \"tbl_department_employees_df\""
   ]
  },
  {
   "cell_type": "code",
   "execution_count": null,
   "metadata": {},
   "outputs": [],
   "source": []
  },
  {
   "cell_type": "code",
   "execution_count": 52,
   "metadata": {},
   "outputs": [],
   "source": [
    "## ===========================================\n",
    "## DATAFRAME FOR TABLE # 6 \"tbl_department_managers\"\n",
    "## ==========================================="
   ]
  },
  {
   "cell_type": "code",
   "execution_count": 53,
   "metadata": {},
   "outputs": [],
   "source": [
    "# Load Table \"tbl_department_managers\" into a DataFrame:\n",
    "\n",
    "tbl_department_managers_df = pd.read_sql(\"SELECT * FROM tbl_department_managers\", connection)"
   ]
  },
  {
   "cell_type": "code",
   "execution_count": 54,
   "metadata": {},
   "outputs": [
    {
     "data": {
      "text/html": [
       "<div>\n",
       "<style scoped>\n",
       "    .dataframe tbody tr th:only-of-type {\n",
       "        vertical-align: middle;\n",
       "    }\n",
       "\n",
       "    .dataframe tbody tr th {\n",
       "        vertical-align: top;\n",
       "    }\n",
       "\n",
       "    .dataframe thead th {\n",
       "        text-align: right;\n",
       "    }\n",
       "</style>\n",
       "<table border=\"1\" class=\"dataframe\">\n",
       "  <thead>\n",
       "    <tr style=\"text-align: right;\">\n",
       "      <th></th>\n",
       "      <th>dept_number</th>\n",
       "      <th>emp_number</th>\n",
       "      <th>dept_mgr_from_date</th>\n",
       "      <th>dept_mgr_to_date</th>\n",
       "    </tr>\n",
       "  </thead>\n",
       "  <tbody>\n",
       "    <tr>\n",
       "      <td>0</td>\n",
       "      <td>d001</td>\n",
       "      <td>110022</td>\n",
       "      <td>1985-01-01</td>\n",
       "      <td>1991-10-01</td>\n",
       "    </tr>\n",
       "    <tr>\n",
       "      <td>1</td>\n",
       "      <td>d001</td>\n",
       "      <td>110039</td>\n",
       "      <td>1991-10-01</td>\n",
       "      <td>9999-01-01</td>\n",
       "    </tr>\n",
       "    <tr>\n",
       "      <td>2</td>\n",
       "      <td>d002</td>\n",
       "      <td>110085</td>\n",
       "      <td>1985-01-01</td>\n",
       "      <td>1989-12-17</td>\n",
       "    </tr>\n",
       "    <tr>\n",
       "      <td>3</td>\n",
       "      <td>d002</td>\n",
       "      <td>110114</td>\n",
       "      <td>1989-12-17</td>\n",
       "      <td>9999-01-01</td>\n",
       "    </tr>\n",
       "    <tr>\n",
       "      <td>4</td>\n",
       "      <td>d003</td>\n",
       "      <td>110183</td>\n",
       "      <td>1985-01-01</td>\n",
       "      <td>1992-03-21</td>\n",
       "    </tr>\n",
       "    <tr>\n",
       "      <td>5</td>\n",
       "      <td>d003</td>\n",
       "      <td>110228</td>\n",
       "      <td>1992-03-21</td>\n",
       "      <td>9999-01-01</td>\n",
       "    </tr>\n",
       "    <tr>\n",
       "      <td>6</td>\n",
       "      <td>d004</td>\n",
       "      <td>110303</td>\n",
       "      <td>1985-01-01</td>\n",
       "      <td>1988-09-09</td>\n",
       "    </tr>\n",
       "    <tr>\n",
       "      <td>7</td>\n",
       "      <td>d004</td>\n",
       "      <td>110344</td>\n",
       "      <td>1988-09-09</td>\n",
       "      <td>1992-08-02</td>\n",
       "    </tr>\n",
       "    <tr>\n",
       "      <td>8</td>\n",
       "      <td>d004</td>\n",
       "      <td>110386</td>\n",
       "      <td>1992-08-02</td>\n",
       "      <td>1996-08-30</td>\n",
       "    </tr>\n",
       "    <tr>\n",
       "      <td>9</td>\n",
       "      <td>d004</td>\n",
       "      <td>110420</td>\n",
       "      <td>1996-08-30</td>\n",
       "      <td>9999-01-01</td>\n",
       "    </tr>\n",
       "  </tbody>\n",
       "</table>\n",
       "</div>"
      ],
      "text/plain": [
       "  dept_number  emp_number dept_mgr_from_date dept_mgr_to_date\n",
       "0        d001      110022         1985-01-01       1991-10-01\n",
       "1        d001      110039         1991-10-01       9999-01-01\n",
       "2        d002      110085         1985-01-01       1989-12-17\n",
       "3        d002      110114         1989-12-17       9999-01-01\n",
       "4        d003      110183         1985-01-01       1992-03-21\n",
       "5        d003      110228         1992-03-21       9999-01-01\n",
       "6        d004      110303         1985-01-01       1988-09-09\n",
       "7        d004      110344         1988-09-09       1992-08-02\n",
       "8        d004      110386         1992-08-02       1996-08-30\n",
       "9        d004      110420         1996-08-30       9999-01-01"
      ]
     },
     "execution_count": 54,
     "metadata": {},
     "output_type": "execute_result"
    }
   ],
   "source": [
    "# Display the first 10 rows of the DataFrame:\n",
    "\n",
    "tbl_department_managers_df.head(10)"
   ]
  },
  {
   "cell_type": "code",
   "execution_count": 55,
   "metadata": {},
   "outputs": [
    {
     "data": {
      "text/plain": [
       "(24, 4)"
      ]
     },
     "execution_count": 55,
     "metadata": {},
     "output_type": "execute_result"
    }
   ],
   "source": [
    "# Display the shape of the DataFrame:\n",
    "\n",
    "tbl_department_managers_df.shape"
   ]
  },
  {
   "cell_type": "code",
   "execution_count": 56,
   "metadata": {},
   "outputs": [
    {
     "data": {
      "text/plain": [
       "dept_number           object\n",
       "emp_number             int64\n",
       "dept_mgr_from_date    object\n",
       "dept_mgr_to_date      object\n",
       "dtype: object"
      ]
     },
     "execution_count": 56,
     "metadata": {},
     "output_type": "execute_result"
    }
   ],
   "source": [
    "# Display the data-types of the columns in the DataFrame:\n",
    "\n",
    "tbl_department_managers_df.dtypes"
   ]
  },
  {
   "cell_type": "code",
   "execution_count": 57,
   "metadata": {},
   "outputs": [
    {
     "data": {
      "text/plain": [
       "dept_number           24\n",
       "emp_number            24\n",
       "dept_mgr_from_date    24\n",
       "dept_mgr_to_date      24\n",
       "dtype: int64"
      ]
     },
     "execution_count": 57,
     "metadata": {},
     "output_type": "execute_result"
    }
   ],
   "source": [
    "# Display the row count for the columns in the DataFrame:\n",
    "\n",
    "tbl_department_managers_df.count()"
   ]
  },
  {
   "cell_type": "code",
   "execution_count": 58,
   "metadata": {},
   "outputs": [
    {
     "data": {
      "text/plain": [
       "dept_number           0\n",
       "emp_number            0\n",
       "dept_mgr_from_date    0\n",
       "dept_mgr_to_date      0\n",
       "dtype: int64"
      ]
     },
     "execution_count": 58,
     "metadata": {},
     "output_type": "execute_result"
    }
   ],
   "source": [
    "# Display the count of NULL values for each column in the DataFrame:\n",
    "\n",
    "tbl_department_managers_df.isnull().sum()"
   ]
  },
  {
   "cell_type": "code",
   "execution_count": 59,
   "metadata": {},
   "outputs": [
    {
     "data": {
      "text/plain": [
       "0"
      ]
     },
     "execution_count": 59,
     "metadata": {},
     "output_type": "execute_result"
    }
   ],
   "source": [
    "# Display the count of NULL values for each column in the DataFrame:\n",
    "\n",
    "tbl_department_managers_df.isnull().sum().sum()"
   ]
  },
  {
   "cell_type": "code",
   "execution_count": 60,
   "metadata": {},
   "outputs": [],
   "source": [
    "# There are no NULL Values to replace in the DataFrame \"tbl_department_managers_df\""
   ]
  },
  {
   "cell_type": "code",
   "execution_count": null,
   "metadata": {},
   "outputs": [],
   "source": []
  },
  {
   "cell_type": "code",
   "execution_count": 61,
   "metadata": {},
   "outputs": [],
   "source": [
    "## ========================================================\n",
    "## MERGING DATAFRAMES \"tbl_salaries_df\" & \"tbl_titles_df\" \n",
    "## ========================================================"
   ]
  },
  {
   "cell_type": "code",
   "execution_count": 62,
   "metadata": {},
   "outputs": [],
   "source": [
    "# Creating a new DataFrame that merges \"tbl_salaries_df\" & \"tbl_titles_df\":\n",
    "\n",
    "combined_salaries_titles_df = pd.merge(tbl_salaries_df, tbl_titles_df, on=\"emp_number\", how=\"left\")"
   ]
  },
  {
   "cell_type": "code",
   "execution_count": 63,
   "metadata": {},
   "outputs": [
    {
     "data": {
      "text/html": [
       "<div>\n",
       "<style scoped>\n",
       "    .dataframe tbody tr th:only-of-type {\n",
       "        vertical-align: middle;\n",
       "    }\n",
       "\n",
       "    .dataframe tbody tr th {\n",
       "        vertical-align: top;\n",
       "    }\n",
       "\n",
       "    .dataframe thead th {\n",
       "        text-align: right;\n",
       "    }\n",
       "</style>\n",
       "<table border=\"1\" class=\"dataframe\">\n",
       "  <thead>\n",
       "    <tr style=\"text-align: right;\">\n",
       "      <th></th>\n",
       "      <th>emp_number</th>\n",
       "      <th>emp_salary</th>\n",
       "      <th>sal_from_date</th>\n",
       "      <th>sal_to_date</th>\n",
       "      <th>emp_title</th>\n",
       "      <th>ttl_from_date</th>\n",
       "      <th>ttl_to_date</th>\n",
       "    </tr>\n",
       "  </thead>\n",
       "  <tbody>\n",
       "    <tr>\n",
       "      <td>0</td>\n",
       "      <td>10001</td>\n",
       "      <td>60117</td>\n",
       "      <td>1986-06-26</td>\n",
       "      <td>1987-06-26</td>\n",
       "      <td>Senior Engineer</td>\n",
       "      <td>1986-06-26</td>\n",
       "      <td>9999-01-01</td>\n",
       "    </tr>\n",
       "    <tr>\n",
       "      <td>1</td>\n",
       "      <td>10002</td>\n",
       "      <td>65828</td>\n",
       "      <td>1996-08-03</td>\n",
       "      <td>1997-08-03</td>\n",
       "      <td>Staff</td>\n",
       "      <td>1996-08-03</td>\n",
       "      <td>9999-01-01</td>\n",
       "    </tr>\n",
       "    <tr>\n",
       "      <td>2</td>\n",
       "      <td>10003</td>\n",
       "      <td>40006</td>\n",
       "      <td>1995-12-03</td>\n",
       "      <td>1996-12-02</td>\n",
       "      <td>Senior Engineer</td>\n",
       "      <td>1995-12-03</td>\n",
       "      <td>9999-01-01</td>\n",
       "    </tr>\n",
       "    <tr>\n",
       "      <td>3</td>\n",
       "      <td>10004</td>\n",
       "      <td>40054</td>\n",
       "      <td>1986-12-01</td>\n",
       "      <td>1987-12-01</td>\n",
       "      <td>Engineer</td>\n",
       "      <td>1986-12-01</td>\n",
       "      <td>1995-12-01</td>\n",
       "    </tr>\n",
       "    <tr>\n",
       "      <td>4</td>\n",
       "      <td>10004</td>\n",
       "      <td>40054</td>\n",
       "      <td>1986-12-01</td>\n",
       "      <td>1987-12-01</td>\n",
       "      <td>Senior Engineer</td>\n",
       "      <td>1995-12-01</td>\n",
       "      <td>9999-01-01</td>\n",
       "    </tr>\n",
       "    <tr>\n",
       "      <td>5</td>\n",
       "      <td>10005</td>\n",
       "      <td>78228</td>\n",
       "      <td>1989-09-12</td>\n",
       "      <td>1990-09-12</td>\n",
       "      <td>Senior Staff</td>\n",
       "      <td>1996-09-12</td>\n",
       "      <td>9999-01-01</td>\n",
       "    </tr>\n",
       "    <tr>\n",
       "      <td>6</td>\n",
       "      <td>10005</td>\n",
       "      <td>78228</td>\n",
       "      <td>1989-09-12</td>\n",
       "      <td>1990-09-12</td>\n",
       "      <td>Staff</td>\n",
       "      <td>1989-09-12</td>\n",
       "      <td>1996-09-12</td>\n",
       "    </tr>\n",
       "    <tr>\n",
       "      <td>7</td>\n",
       "      <td>10006</td>\n",
       "      <td>40000</td>\n",
       "      <td>1990-08-05</td>\n",
       "      <td>1991-08-05</td>\n",
       "      <td>Senior Engineer</td>\n",
       "      <td>1990-08-05</td>\n",
       "      <td>9999-01-01</td>\n",
       "    </tr>\n",
       "    <tr>\n",
       "      <td>8</td>\n",
       "      <td>10007</td>\n",
       "      <td>56724</td>\n",
       "      <td>1989-02-10</td>\n",
       "      <td>1990-02-10</td>\n",
       "      <td>Senior Staff</td>\n",
       "      <td>1996-02-11</td>\n",
       "      <td>9999-01-01</td>\n",
       "    </tr>\n",
       "    <tr>\n",
       "      <td>9</td>\n",
       "      <td>10007</td>\n",
       "      <td>56724</td>\n",
       "      <td>1989-02-10</td>\n",
       "      <td>1990-02-10</td>\n",
       "      <td>Staff</td>\n",
       "      <td>1989-02-10</td>\n",
       "      <td>1996-02-11</td>\n",
       "    </tr>\n",
       "  </tbody>\n",
       "</table>\n",
       "</div>"
      ],
      "text/plain": [
       "   emp_number  emp_salary sal_from_date sal_to_date        emp_title  \\\n",
       "0       10001       60117    1986-06-26  1987-06-26  Senior Engineer   \n",
       "1       10002       65828    1996-08-03  1997-08-03            Staff   \n",
       "2       10003       40006    1995-12-03  1996-12-02  Senior Engineer   \n",
       "3       10004       40054    1986-12-01  1987-12-01         Engineer   \n",
       "4       10004       40054    1986-12-01  1987-12-01  Senior Engineer   \n",
       "5       10005       78228    1989-09-12  1990-09-12     Senior Staff   \n",
       "6       10005       78228    1989-09-12  1990-09-12            Staff   \n",
       "7       10006       40000    1990-08-05  1991-08-05  Senior Engineer   \n",
       "8       10007       56724    1989-02-10  1990-02-10     Senior Staff   \n",
       "9       10007       56724    1989-02-10  1990-02-10            Staff   \n",
       "\n",
       "  ttl_from_date ttl_to_date  \n",
       "0    1986-06-26  9999-01-01  \n",
       "1    1996-08-03  9999-01-01  \n",
       "2    1995-12-03  9999-01-01  \n",
       "3    1986-12-01  1995-12-01  \n",
       "4    1995-12-01  9999-01-01  \n",
       "5    1996-09-12  9999-01-01  \n",
       "6    1989-09-12  1996-09-12  \n",
       "7    1990-08-05  9999-01-01  \n",
       "8    1996-02-11  9999-01-01  \n",
       "9    1989-02-10  1996-02-11  "
      ]
     },
     "execution_count": 63,
     "metadata": {},
     "output_type": "execute_result"
    }
   ],
   "source": [
    "# Display the first 10 rows of the DataFrame:\n",
    "\n",
    "combined_salaries_titles_df.head(10)"
   ]
  },
  {
   "cell_type": "code",
   "execution_count": 64,
   "metadata": {},
   "outputs": [
    {
     "data": {
      "text/plain": [
       "(443308, 7)"
      ]
     },
     "execution_count": 64,
     "metadata": {},
     "output_type": "execute_result"
    }
   ],
   "source": [
    "# Display the shape of the DataFrame:\n",
    "\n",
    "combined_salaries_titles_df.shape"
   ]
  },
  {
   "cell_type": "code",
   "execution_count": 65,
   "metadata": {},
   "outputs": [
    {
     "data": {
      "text/plain": [
       "emp_number        int64\n",
       "emp_salary        int64\n",
       "sal_from_date    object\n",
       "sal_to_date      object\n",
       "emp_title        object\n",
       "ttl_from_date    object\n",
       "ttl_to_date      object\n",
       "dtype: object"
      ]
     },
     "execution_count": 65,
     "metadata": {},
     "output_type": "execute_result"
    }
   ],
   "source": [
    "# Display the data-types of the columns in the DataFrame:\n",
    "\n",
    "combined_salaries_titles_df.dtypes"
   ]
  },
  {
   "cell_type": "code",
   "execution_count": 66,
   "metadata": {},
   "outputs": [
    {
     "data": {
      "text/plain": [
       "emp_number       443308\n",
       "emp_salary       443308\n",
       "sal_from_date    443308\n",
       "sal_to_date      443308\n",
       "emp_title        443308\n",
       "ttl_from_date    443308\n",
       "ttl_to_date      443308\n",
       "dtype: int64"
      ]
     },
     "execution_count": 66,
     "metadata": {},
     "output_type": "execute_result"
    }
   ],
   "source": [
    "# Display the row count for the columns in the DataFrame:\n",
    "\n",
    "combined_salaries_titles_df.count()"
   ]
  },
  {
   "cell_type": "code",
   "execution_count": null,
   "metadata": {},
   "outputs": [],
   "source": []
  },
  {
   "cell_type": "code",
   "execution_count": 67,
   "metadata": {},
   "outputs": [],
   "source": [
    "## ========================================================\n",
    "## ANALYSIS OF AVERAGE EMPLOYEE SALARY BY EMPLOYEE TITLE  \n",
    "## ========================================================"
   ]
  },
  {
   "cell_type": "code",
   "execution_count": 68,
   "metadata": {},
   "outputs": [],
   "source": [
    "# Create a new DataFrame with just the 2 columns \"emp_title\" and \"emp_salary\" relevant for the requested Analysis:\n",
    "\n",
    "reduced_salaries_titles_df = combined_salaries_titles_df[['emp_title', 'emp_salary']]"
   ]
  },
  {
   "cell_type": "code",
   "execution_count": 69,
   "metadata": {},
   "outputs": [
    {
     "data": {
      "text/html": [
       "<div>\n",
       "<style scoped>\n",
       "    .dataframe tbody tr th:only-of-type {\n",
       "        vertical-align: middle;\n",
       "    }\n",
       "\n",
       "    .dataframe tbody tr th {\n",
       "        vertical-align: top;\n",
       "    }\n",
       "\n",
       "    .dataframe thead th {\n",
       "        text-align: right;\n",
       "    }\n",
       "</style>\n",
       "<table border=\"1\" class=\"dataframe\">\n",
       "  <thead>\n",
       "    <tr style=\"text-align: right;\">\n",
       "      <th></th>\n",
       "      <th>emp_title</th>\n",
       "      <th>emp_salary</th>\n",
       "    </tr>\n",
       "  </thead>\n",
       "  <tbody>\n",
       "    <tr>\n",
       "      <td>0</td>\n",
       "      <td>Senior Engineer</td>\n",
       "      <td>60117</td>\n",
       "    </tr>\n",
       "    <tr>\n",
       "      <td>1</td>\n",
       "      <td>Staff</td>\n",
       "      <td>65828</td>\n",
       "    </tr>\n",
       "    <tr>\n",
       "      <td>2</td>\n",
       "      <td>Senior Engineer</td>\n",
       "      <td>40006</td>\n",
       "    </tr>\n",
       "    <tr>\n",
       "      <td>3</td>\n",
       "      <td>Engineer</td>\n",
       "      <td>40054</td>\n",
       "    </tr>\n",
       "    <tr>\n",
       "      <td>4</td>\n",
       "      <td>Senior Engineer</td>\n",
       "      <td>40054</td>\n",
       "    </tr>\n",
       "    <tr>\n",
       "      <td>5</td>\n",
       "      <td>Senior Staff</td>\n",
       "      <td>78228</td>\n",
       "    </tr>\n",
       "    <tr>\n",
       "      <td>6</td>\n",
       "      <td>Staff</td>\n",
       "      <td>78228</td>\n",
       "    </tr>\n",
       "    <tr>\n",
       "      <td>7</td>\n",
       "      <td>Senior Engineer</td>\n",
       "      <td>40000</td>\n",
       "    </tr>\n",
       "    <tr>\n",
       "      <td>8</td>\n",
       "      <td>Senior Staff</td>\n",
       "      <td>56724</td>\n",
       "    </tr>\n",
       "    <tr>\n",
       "      <td>9</td>\n",
       "      <td>Staff</td>\n",
       "      <td>56724</td>\n",
       "    </tr>\n",
       "  </tbody>\n",
       "</table>\n",
       "</div>"
      ],
      "text/plain": [
       "         emp_title  emp_salary\n",
       "0  Senior Engineer       60117\n",
       "1            Staff       65828\n",
       "2  Senior Engineer       40006\n",
       "3         Engineer       40054\n",
       "4  Senior Engineer       40054\n",
       "5     Senior Staff       78228\n",
       "6            Staff       78228\n",
       "7  Senior Engineer       40000\n",
       "8     Senior Staff       56724\n",
       "9            Staff       56724"
      ]
     },
     "execution_count": 69,
     "metadata": {},
     "output_type": "execute_result"
    }
   ],
   "source": [
    "# Display the first 10 rows of the DataFrame:\n",
    "\n",
    "reduced_salaries_titles_df.head(10)"
   ]
  },
  {
   "cell_type": "code",
   "execution_count": 70,
   "metadata": {},
   "outputs": [
    {
     "data": {
      "text/plain": [
       "(443308, 2)"
      ]
     },
     "execution_count": 70,
     "metadata": {},
     "output_type": "execute_result"
    }
   ],
   "source": [
    "# Display the shape of the DataFrame:\n",
    "\n",
    "reduced_salaries_titles_df.shape"
   ]
  },
  {
   "cell_type": "code",
   "execution_count": 71,
   "metadata": {},
   "outputs": [
    {
     "data": {
      "text/plain": [
       "emp_title     object\n",
       "emp_salary     int64\n",
       "dtype: object"
      ]
     },
     "execution_count": 71,
     "metadata": {},
     "output_type": "execute_result"
    }
   ],
   "source": [
    "# Display the data-types of the columns in the DataFrame:\n",
    "\n",
    "reduced_salaries_titles_df.dtypes"
   ]
  },
  {
   "cell_type": "code",
   "execution_count": 72,
   "metadata": {},
   "outputs": [],
   "source": [
    "# Group the data by the column \"emp_title\":\n",
    "\n",
    "grouped_salaries_titles_df = reduced_salaries_titles_df.groupby('emp_title').mean()"
   ]
  },
  {
   "cell_type": "code",
   "execution_count": 73,
   "metadata": {},
   "outputs": [
    {
     "data": {
      "text/html": [
       "<div>\n",
       "<style scoped>\n",
       "    .dataframe tbody tr th:only-of-type {\n",
       "        vertical-align: middle;\n",
       "    }\n",
       "\n",
       "    .dataframe tbody tr th {\n",
       "        vertical-align: top;\n",
       "    }\n",
       "\n",
       "    .dataframe thead th {\n",
       "        text-align: right;\n",
       "    }\n",
       "</style>\n",
       "<table border=\"1\" class=\"dataframe\">\n",
       "  <thead>\n",
       "    <tr style=\"text-align: right;\">\n",
       "      <th></th>\n",
       "      <th>emp_salary</th>\n",
       "    </tr>\n",
       "    <tr>\n",
       "      <th>emp_title</th>\n",
       "      <th></th>\n",
       "    </tr>\n",
       "  </thead>\n",
       "  <tbody>\n",
       "    <tr>\n",
       "      <td>Assistant Engineer</td>\n",
       "      <td>48493.204786</td>\n",
       "    </tr>\n",
       "    <tr>\n",
       "      <td>Engineer</td>\n",
       "      <td>48539.781423</td>\n",
       "    </tr>\n",
       "    <tr>\n",
       "      <td>Manager</td>\n",
       "      <td>51531.041667</td>\n",
       "    </tr>\n",
       "    <tr>\n",
       "      <td>Senior Engineer</td>\n",
       "      <td>48506.751806</td>\n",
       "    </tr>\n",
       "    <tr>\n",
       "      <td>Senior Staff</td>\n",
       "      <td>58503.286614</td>\n",
       "    </tr>\n",
       "    <tr>\n",
       "      <td>Staff</td>\n",
       "      <td>58465.271904</td>\n",
       "    </tr>\n",
       "    <tr>\n",
       "      <td>Technique Leader</td>\n",
       "      <td>48580.505772</td>\n",
       "    </tr>\n",
       "  </tbody>\n",
       "</table>\n",
       "</div>"
      ],
      "text/plain": [
       "                      emp_salary\n",
       "emp_title                       \n",
       "Assistant Engineer  48493.204786\n",
       "Engineer            48539.781423\n",
       "Manager             51531.041667\n",
       "Senior Engineer     48506.751806\n",
       "Senior Staff        58503.286614\n",
       "Staff               58465.271904\n",
       "Technique Leader    48580.505772"
      ]
     },
     "execution_count": 73,
     "metadata": {},
     "output_type": "execute_result"
    }
   ],
   "source": [
    "# Display the first 10 rows of the DataFrame:\n",
    "\n",
    "grouped_salaries_titles_df.head(10)"
   ]
  },
  {
   "cell_type": "code",
   "execution_count": 74,
   "metadata": {},
   "outputs": [
    {
     "data": {
      "text/plain": [
       "(7, 1)"
      ]
     },
     "execution_count": 74,
     "metadata": {},
     "output_type": "execute_result"
    }
   ],
   "source": [
    "# Display the shape of the DataFrame:\n",
    "\n",
    "grouped_salaries_titles_df.shape"
   ]
  },
  {
   "cell_type": "code",
   "execution_count": 75,
   "metadata": {},
   "outputs": [],
   "source": [
    "# Create a new DataFrame and reset the index:\n",
    "\n",
    "new_grouped_salaries_titles_df = grouped_salaries_titles_df.reset_index()"
   ]
  },
  {
   "cell_type": "code",
   "execution_count": 76,
   "metadata": {},
   "outputs": [
    {
     "data": {
      "text/html": [
       "<div>\n",
       "<style scoped>\n",
       "    .dataframe tbody tr th:only-of-type {\n",
       "        vertical-align: middle;\n",
       "    }\n",
       "\n",
       "    .dataframe tbody tr th {\n",
       "        vertical-align: top;\n",
       "    }\n",
       "\n",
       "    .dataframe thead th {\n",
       "        text-align: right;\n",
       "    }\n",
       "</style>\n",
       "<table border=\"1\" class=\"dataframe\">\n",
       "  <thead>\n",
       "    <tr style=\"text-align: right;\">\n",
       "      <th></th>\n",
       "      <th>emp_title</th>\n",
       "      <th>emp_salary</th>\n",
       "    </tr>\n",
       "  </thead>\n",
       "  <tbody>\n",
       "    <tr>\n",
       "      <td>0</td>\n",
       "      <td>Assistant Engineer</td>\n",
       "      <td>48493.204786</td>\n",
       "    </tr>\n",
       "    <tr>\n",
       "      <td>1</td>\n",
       "      <td>Engineer</td>\n",
       "      <td>48539.781423</td>\n",
       "    </tr>\n",
       "    <tr>\n",
       "      <td>2</td>\n",
       "      <td>Manager</td>\n",
       "      <td>51531.041667</td>\n",
       "    </tr>\n",
       "    <tr>\n",
       "      <td>3</td>\n",
       "      <td>Senior Engineer</td>\n",
       "      <td>48506.751806</td>\n",
       "    </tr>\n",
       "    <tr>\n",
       "      <td>4</td>\n",
       "      <td>Senior Staff</td>\n",
       "      <td>58503.286614</td>\n",
       "    </tr>\n",
       "    <tr>\n",
       "      <td>5</td>\n",
       "      <td>Staff</td>\n",
       "      <td>58465.271904</td>\n",
       "    </tr>\n",
       "    <tr>\n",
       "      <td>6</td>\n",
       "      <td>Technique Leader</td>\n",
       "      <td>48580.505772</td>\n",
       "    </tr>\n",
       "  </tbody>\n",
       "</table>\n",
       "</div>"
      ],
      "text/plain": [
       "            emp_title    emp_salary\n",
       "0  Assistant Engineer  48493.204786\n",
       "1            Engineer  48539.781423\n",
       "2             Manager  51531.041667\n",
       "3     Senior Engineer  48506.751806\n",
       "4        Senior Staff  58503.286614\n",
       "5               Staff  58465.271904\n",
       "6    Technique Leader  48580.505772"
      ]
     },
     "execution_count": 76,
     "metadata": {},
     "output_type": "execute_result"
    }
   ],
   "source": [
    "# Display the first 10 rows of the DataFrame:\n",
    "\n",
    "new_grouped_salaries_titles_df.head(10)"
   ]
  },
  {
   "cell_type": "code",
   "execution_count": 77,
   "metadata": {},
   "outputs": [
    {
     "data": {
      "text/plain": [
       "(7, 2)"
      ]
     },
     "execution_count": 77,
     "metadata": {},
     "output_type": "execute_result"
    }
   ],
   "source": [
    "# Display the shape of the DataFrame:\n",
    "\n",
    "new_grouped_salaries_titles_df.shape"
   ]
  },
  {
   "cell_type": "code",
   "execution_count": 78,
   "metadata": {},
   "outputs": [
    {
     "data": {
      "image/png": "[encoded data removed]",
      "text/plain": [
       "<Figure size 432x288 with 1 Axes>"
      ]
     },
     "metadata": {
      "needs_background": "light"
     },
     "output_type": "display_data"
    }
   ],
   "source": [
    "# Define the X Axis:\n",
    "x_axis = new_grouped_salaries_titles_df['emp_title']\n",
    "ticks = np.arange(len(x_axis))\n",
    "\n",
    "# Define the Y Axis:\n",
    "y_axis = new_grouped_salaries_titles_df['emp_salary']\n",
    "\n",
    "# Create a Bar Chart:\n",
    "plt.bar(x_axis, y_axis, alpha=0.5, align=\"center\", color = 'k')\n",
    "\n",
    "# Assign X Axis Values for each Bar:\n",
    "plt.xticks(ticks, x_axis, rotation=\"vertical\")\n",
    "\n",
    "# Assign a label to the X Axis:\n",
    "plt.xlabel(\"Employee Title\")\n",
    "\n",
    "# Assign a label to the Y Axis:\n",
    "plt.ylabel(\"Average Salary ($)\")\n",
    "\n",
    "# Assign a title to the Bar Chart:\n",
    "plt.title(\"Average Salary ($) by Employee Title\")\n",
    "\n",
    "# Save the Bar Chart:\n",
    "plt.savefig(\"Output/BAR_CHART_Average_Salary_by_Employee_Title.png\")\n",
    "\n",
    "# Display the Bar Chart:\n",
    "plt.show()"
   ]
  },
  {
   "cell_type": "code",
   "execution_count": null,
   "metadata": {},
   "outputs": [],
   "source": []
  },
  {
   "cell_type": "code",
   "execution_count": 79,
   "metadata": {},
   "outputs": [],
   "source": [
    "## ==============================================================\n",
    "## HISTOGRAM OF SALARIES FOR EMPLOYEE TITLE = ASSISTANT ENGINEER \n",
    "## =============================================================="
   ]
  },
  {
   "cell_type": "code",
   "execution_count": 80,
   "metadata": {},
   "outputs": [],
   "source": [
    "# Create a DataFrame:\n",
    "\n",
    "reduced_df_Asst_Engineer = reduced_salaries_titles_df.loc[reduced_salaries_titles_df[\"emp_title\"] == \"Assistant Engineer\", :]"
   ]
  },
  {
   "cell_type": "code",
   "execution_count": 81,
   "metadata": {},
   "outputs": [
    {
     "data": {
      "text/html": [
       "<div>\n",
       "<style scoped>\n",
       "    .dataframe tbody tr th:only-of-type {\n",
       "        vertical-align: middle;\n",
       "    }\n",
       "\n",
       "    .dataframe tbody tr th {\n",
       "        vertical-align: top;\n",
       "    }\n",
       "\n",
       "    .dataframe thead th {\n",
       "        text-align: right;\n",
       "    }\n",
       "</style>\n",
       "<table border=\"1\" class=\"dataframe\">\n",
       "  <thead>\n",
       "    <tr style=\"text-align: right;\">\n",
       "      <th></th>\n",
       "      <th>emp_title</th>\n",
       "      <th>emp_salary</th>\n",
       "    </tr>\n",
       "  </thead>\n",
       "  <tbody>\n",
       "    <tr>\n",
       "      <td>10</td>\n",
       "      <td>Assistant Engineer</td>\n",
       "      <td>46671</td>\n",
       "    </tr>\n",
       "    <tr>\n",
       "      <td>11</td>\n",
       "      <td>Assistant Engineer</td>\n",
       "      <td>60929</td>\n",
       "    </tr>\n",
       "    <tr>\n",
       "      <td>31</td>\n",
       "      <td>Assistant Engineer</td>\n",
       "      <td>83733</td>\n",
       "    </tr>\n",
       "    <tr>\n",
       "      <td>98</td>\n",
       "      <td>Assistant Engineer</td>\n",
       "      <td>69736</td>\n",
       "    </tr>\n",
       "    <tr>\n",
       "      <td>152</td>\n",
       "      <td>Assistant Engineer</td>\n",
       "      <td>44380</td>\n",
       "    </tr>\n",
       "    <tr>\n",
       "      <td>180</td>\n",
       "      <td>Assistant Engineer</td>\n",
       "      <td>71524</td>\n",
       "    </tr>\n",
       "    <tr>\n",
       "      <td>198</td>\n",
       "      <td>Assistant Engineer</td>\n",
       "      <td>40000</td>\n",
       "    </tr>\n",
       "    <tr>\n",
       "      <td>227</td>\n",
       "      <td>Assistant Engineer</td>\n",
       "      <td>54246</td>\n",
       "    </tr>\n",
       "    <tr>\n",
       "      <td>327</td>\n",
       "      <td>Assistant Engineer</td>\n",
       "      <td>40000</td>\n",
       "    </tr>\n",
       "    <tr>\n",
       "      <td>383</td>\n",
       "      <td>Assistant Engineer</td>\n",
       "      <td>66280</td>\n",
       "    </tr>\n",
       "  </tbody>\n",
       "</table>\n",
       "</div>"
      ],
      "text/plain": [
       "              emp_title  emp_salary\n",
       "10   Assistant Engineer       46671\n",
       "11   Assistant Engineer       60929\n",
       "31   Assistant Engineer       83733\n",
       "98   Assistant Engineer       69736\n",
       "152  Assistant Engineer       44380\n",
       "180  Assistant Engineer       71524\n",
       "198  Assistant Engineer       40000\n",
       "227  Assistant Engineer       54246\n",
       "327  Assistant Engineer       40000\n",
       "383  Assistant Engineer       66280"
      ]
     },
     "execution_count": 81,
     "metadata": {},
     "output_type": "execute_result"
    }
   ],
   "source": [
    "# Display the first 10 rows of the DataFrame:\n",
    "\n",
    "reduced_df_Asst_Engineer.head(10)"
   ]
  },
  {
   "cell_type": "code",
   "execution_count": 82,
   "metadata": {},
   "outputs": [
    {
     "data": {
      "text/plain": [
       "(15128, 2)"
      ]
     },
     "execution_count": 82,
     "metadata": {},
     "output_type": "execute_result"
    }
   ],
   "source": [
    "# Display the shape of the DataFrame:\n",
    "\n",
    "reduced_df_Asst_Engineer.shape"
   ]
  },
  {
   "cell_type": "code",
   "execution_count": 83,
   "metadata": {},
   "outputs": [
    {
     "data": {
      "image/png": "[encoded data removed]",
      "text/plain": [
       "<Figure size 432x288 with 1 Axes>"
      ]
     },
     "metadata": {
      "needs_background": "light"
     },
     "output_type": "display_data"
    }
   ],
   "source": [
    "# Display a Histogram for the Employee Salaries within the DataFrame:\n",
    "ax = reduced_df_Asst_Engineer.plot.hist(bins=10, alpha=0.5, color = \"b\")\n",
    "\n",
    "# Assign a label to the X Axis:\n",
    "plt.xlabel(\"Employee Salary ($)\")\n",
    "\n",
    "# Assign a label to the Y Axis:\n",
    "plt.ylabel(\"Frequency (Count)\")\n",
    "\n",
    "# Assign a title to the Histogram:\n",
    "plt.title(\"Salary($) Histogram for \\n Employee Title = Assistant Engineer\")\n",
    "\n",
    "# Save the Histogram:\n",
    "plt.savefig(\"Output/HISTOGRAM_Salary_Assistant_Engineer.png\")\n",
    "\n",
    "# Display the Histogram:\n",
    "plt.show()"
   ]
  },
  {
   "cell_type": "code",
   "execution_count": null,
   "metadata": {},
   "outputs": [],
   "source": []
  },
  {
   "cell_type": "code",
   "execution_count": 84,
   "metadata": {},
   "outputs": [],
   "source": [
    "## ==============================================================\n",
    "## HISTOGRAM OF SALARIES FOR EMPLOYEE TITLE = ENGINEER \n",
    "## =============================================================="
   ]
  },
  {
   "cell_type": "code",
   "execution_count": 85,
   "metadata": {},
   "outputs": [],
   "source": [
    "# Create a DataFrame:\n",
    "\n",
    "reduced_df_Engineer = reduced_salaries_titles_df.loc[reduced_salaries_titles_df[\"emp_title\"] == \"Engineer\", :]"
   ]
  },
  {
   "cell_type": "code",
   "execution_count": 86,
   "metadata": {},
   "outputs": [
    {
     "data": {
      "text/html": [
       "<div>\n",
       "<style scoped>\n",
       "    .dataframe tbody tr th:only-of-type {\n",
       "        vertical-align: middle;\n",
       "    }\n",
       "\n",
       "    .dataframe tbody tr th {\n",
       "        vertical-align: top;\n",
       "    }\n",
       "\n",
       "    .dataframe thead th {\n",
       "        text-align: right;\n",
       "    }\n",
       "</style>\n",
       "<table border=\"1\" class=\"dataframe\">\n",
       "  <thead>\n",
       "    <tr style=\"text-align: right;\">\n",
       "      <th></th>\n",
       "      <th>emp_title</th>\n",
       "      <th>emp_salary</th>\n",
       "    </tr>\n",
       "  </thead>\n",
       "  <tbody>\n",
       "    <tr>\n",
       "      <td>3</td>\n",
       "      <td>Engineer</td>\n",
       "      <td>40054</td>\n",
       "    </tr>\n",
       "    <tr>\n",
       "      <td>12</td>\n",
       "      <td>Engineer</td>\n",
       "      <td>60929</td>\n",
       "    </tr>\n",
       "    <tr>\n",
       "      <td>14</td>\n",
       "      <td>Engineer</td>\n",
       "      <td>72488</td>\n",
       "    </tr>\n",
       "    <tr>\n",
       "      <td>16</td>\n",
       "      <td>Engineer</td>\n",
       "      <td>40000</td>\n",
       "    </tr>\n",
       "    <tr>\n",
       "      <td>19</td>\n",
       "      <td>Engineer</td>\n",
       "      <td>46168</td>\n",
       "    </tr>\n",
       "    <tr>\n",
       "      <td>24</td>\n",
       "      <td>Engineer</td>\n",
       "      <td>55881</td>\n",
       "    </tr>\n",
       "    <tr>\n",
       "      <td>27</td>\n",
       "      <td>Engineer</td>\n",
       "      <td>40000</td>\n",
       "    </tr>\n",
       "    <tr>\n",
       "      <td>29</td>\n",
       "      <td>Engineer</td>\n",
       "      <td>40000</td>\n",
       "    </tr>\n",
       "    <tr>\n",
       "      <td>30</td>\n",
       "      <td>Engineer</td>\n",
       "      <td>47883</td>\n",
       "    </tr>\n",
       "    <tr>\n",
       "      <td>33</td>\n",
       "      <td>Engineer</td>\n",
       "      <td>47585</td>\n",
       "    </tr>\n",
       "  </tbody>\n",
       "</table>\n",
       "</div>"
      ],
      "text/plain": [
       "   emp_title  emp_salary\n",
       "3   Engineer       40054\n",
       "12  Engineer       60929\n",
       "14  Engineer       72488\n",
       "16  Engineer       40000\n",
       "19  Engineer       46168\n",
       "24  Engineer       55881\n",
       "27  Engineer       40000\n",
       "29  Engineer       40000\n",
       "30  Engineer       47883\n",
       "33  Engineer       47585"
      ]
     },
     "execution_count": 86,
     "metadata": {},
     "output_type": "execute_result"
    }
   ],
   "source": [
    "# Display the first 10 rows of the DataFrame:\n",
    "\n",
    "reduced_df_Engineer.head(10)"
   ]
  },
  {
   "cell_type": "code",
   "execution_count": 87,
   "metadata": {},
   "outputs": [
    {
     "data": {
      "text/plain": [
       "(115003, 2)"
      ]
     },
     "execution_count": 87,
     "metadata": {},
     "output_type": "execute_result"
    }
   ],
   "source": [
    "# Display the shape of the DataFrame:\n",
    "\n",
    "reduced_df_Engineer.shape"
   ]
  },
  {
   "cell_type": "code",
   "execution_count": 88,
   "metadata": {},
   "outputs": [
    {
     "data": {
      "image/png": "[encoded data removed]",
      "text/plain": [
       "<Figure size 432x288 with 1 Axes>"
      ]
     },
     "metadata": {
      "needs_background": "light"
     },
     "output_type": "display_data"
    }
   ],
   "source": [
    "# Display a Histogram for the Employee Salaries within the DataFrame:\n",
    "ax = reduced_df_Engineer.plot.hist(bins=10, alpha=0.5, color = \"r\")\n",
    "\n",
    "# Assign a label to the X Axis:\n",
    "plt.xlabel(\"Employee Salary ($)\")\n",
    "\n",
    "# Assign a label to the Y Axis:\n",
    "plt.ylabel(\"Frequency (Count)\")\n",
    "\n",
    "# Assign a title to the Histogram:\n",
    "plt.title(\"Salary($) Histogram for \\n Employee Title = Engineer\")\n",
    "\n",
    "# Save the Histogram:\n",
    "plt.savefig(\"Output/HISTOGRAM_Salary_Engineer.png\")\n",
    "\n",
    "# Display the Histogram:\n",
    "plt.show()"
   ]
  },
  {
   "cell_type": "code",
   "execution_count": null,
   "metadata": {},
   "outputs": [],
   "source": []
  },
  {
   "cell_type": "code",
   "execution_count": 89,
   "metadata": {},
   "outputs": [],
   "source": [
    "## ==============================================================\n",
    "## HISTOGRAM OF SALARIES FOR EMPLOYEE TITLE = SENIOR ENGINEER \n",
    "## =============================================================="
   ]
  },
  {
   "cell_type": "code",
   "execution_count": 90,
   "metadata": {},
   "outputs": [],
   "source": [
    "# Create a DataFrame:\n",
    "\n",
    "reduced_df_Senior_Engineer = reduced_salaries_titles_df.loc[reduced_salaries_titles_df[\"emp_title\"] == \"Senior Engineer\", :]"
   ]
  },
  {
   "cell_type": "code",
   "execution_count": 91,
   "metadata": {},
   "outputs": [
    {
     "data": {
      "text/html": [
       "<div>\n",
       "<style scoped>\n",
       "    .dataframe tbody tr th:only-of-type {\n",
       "        vertical-align: middle;\n",
       "    }\n",
       "\n",
       "    .dataframe tbody tr th {\n",
       "        vertical-align: top;\n",
       "    }\n",
       "\n",
       "    .dataframe thead th {\n",
       "        text-align: right;\n",
       "    }\n",
       "</style>\n",
       "<table border=\"1\" class=\"dataframe\">\n",
       "  <thead>\n",
       "    <tr style=\"text-align: right;\">\n",
       "      <th></th>\n",
       "      <th>emp_title</th>\n",
       "      <th>emp_salary</th>\n",
       "    </tr>\n",
       "  </thead>\n",
       "  <tbody>\n",
       "    <tr>\n",
       "      <td>0</td>\n",
       "      <td>Senior Engineer</td>\n",
       "      <td>60117</td>\n",
       "    </tr>\n",
       "    <tr>\n",
       "      <td>2</td>\n",
       "      <td>Senior Engineer</td>\n",
       "      <td>40006</td>\n",
       "    </tr>\n",
       "    <tr>\n",
       "      <td>4</td>\n",
       "      <td>Senior Engineer</td>\n",
       "      <td>40054</td>\n",
       "    </tr>\n",
       "    <tr>\n",
       "      <td>7</td>\n",
       "      <td>Senior Engineer</td>\n",
       "      <td>40000</td>\n",
       "    </tr>\n",
       "    <tr>\n",
       "      <td>13</td>\n",
       "      <td>Senior Engineer</td>\n",
       "      <td>60929</td>\n",
       "    </tr>\n",
       "    <tr>\n",
       "      <td>17</td>\n",
       "      <td>Senior Engineer</td>\n",
       "      <td>40000</td>\n",
       "    </tr>\n",
       "    <tr>\n",
       "      <td>25</td>\n",
       "      <td>Senior Engineer</td>\n",
       "      <td>55881</td>\n",
       "    </tr>\n",
       "    <tr>\n",
       "      <td>34</td>\n",
       "      <td>Senior Engineer</td>\n",
       "      <td>47585</td>\n",
       "    </tr>\n",
       "    <tr>\n",
       "      <td>36</td>\n",
       "      <td>Senior Engineer</td>\n",
       "      <td>40000</td>\n",
       "    </tr>\n",
       "    <tr>\n",
       "      <td>39</td>\n",
       "      <td>Senior Engineer</td>\n",
       "      <td>63163</td>\n",
       "    </tr>\n",
       "  </tbody>\n",
       "</table>\n",
       "</div>"
      ],
      "text/plain": [
       "          emp_title  emp_salary\n",
       "0   Senior Engineer       60117\n",
       "2   Senior Engineer       40006\n",
       "4   Senior Engineer       40054\n",
       "7   Senior Engineer       40000\n",
       "13  Senior Engineer       60929\n",
       "17  Senior Engineer       40000\n",
       "25  Senior Engineer       55881\n",
       "34  Senior Engineer       47585\n",
       "36  Senior Engineer       40000\n",
       "39  Senior Engineer       63163"
      ]
     },
     "execution_count": 91,
     "metadata": {},
     "output_type": "execute_result"
    }
   ],
   "source": [
    "# Display the first 10 rows of the DataFrame:\n",
    "\n",
    "reduced_df_Senior_Engineer.head(10)"
   ]
  },
  {
   "cell_type": "code",
   "execution_count": 92,
   "metadata": {},
   "outputs": [
    {
     "data": {
      "text/plain": [
       "(97750, 2)"
      ]
     },
     "execution_count": 92,
     "metadata": {},
     "output_type": "execute_result"
    }
   ],
   "source": [
    "# Display the shape of the DataFrame:\n",
    "\n",
    "reduced_df_Senior_Engineer.shape"
   ]
  },
  {
   "cell_type": "code",
   "execution_count": 93,
   "metadata": {},
   "outputs": [
    {
     "data": {
      "image/png": "[encoded data removed]",
      "text/plain": [
       "<Figure size 432x288 with 1 Axes>"
      ]
     },
     "metadata": {
      "needs_background": "light"
     },
     "output_type": "display_data"
    }
   ],
   "source": [
    "# Display a Histogram for the Employee Salaries within the DataFrame:\n",
    "ax = reduced_df_Senior_Engineer.plot.hist(bins=10, alpha=0.5, color = \"g\")\n",
    "\n",
    "# Assign a label to the X Axis:\n",
    "plt.xlabel(\"Employee Salary ($)\")\n",
    "\n",
    "# Assign a label to the Y Axis:\n",
    "plt.ylabel(\"Frequency (Count)\")\n",
    "\n",
    "# Assign a title to the Histogram:\n",
    "plt.title(\"Salary($) Histogram for \\n Employee Title = Senior Engineer\")\n",
    "\n",
    "# Save the Histogram:\n",
    "plt.savefig(\"Output/HISTOGRAM_Salary_Senior_Engineer.png\")\n",
    "\n",
    "# Display the Histogram:\n",
    "plt.show()"
   ]
  },
  {
   "cell_type": "code",
   "execution_count": null,
   "metadata": {},
   "outputs": [],
   "source": []
  },
  {
   "cell_type": "code",
   "execution_count": 94,
   "metadata": {},
   "outputs": [],
   "source": [
    "## ==============================================================\n",
    "## HISTOGRAM OF SALARIES FOR EMPLOYEE TITLE = STAFF \n",
    "## =============================================================="
   ]
  },
  {
   "cell_type": "code",
   "execution_count": 95,
   "metadata": {},
   "outputs": [],
   "source": [
    "# Create a DataFrame:\n",
    "\n",
    "reduced_df_Staff = reduced_salaries_titles_df.loc[reduced_salaries_titles_df[\"emp_title\"] == \"Staff\", :]"
   ]
  },
  {
   "cell_type": "code",
   "execution_count": 96,
   "metadata": {},
   "outputs": [
    {
     "data": {
      "text/html": [
       "<div>\n",
       "<style scoped>\n",
       "    .dataframe tbody tr th:only-of-type {\n",
       "        vertical-align: middle;\n",
       "    }\n",
       "\n",
       "    .dataframe tbody tr th {\n",
       "        vertical-align: top;\n",
       "    }\n",
       "\n",
       "    .dataframe thead th {\n",
       "        text-align: right;\n",
       "    }\n",
       "</style>\n",
       "<table border=\"1\" class=\"dataframe\">\n",
       "  <thead>\n",
       "    <tr style=\"text-align: right;\">\n",
       "      <th></th>\n",
       "      <th>emp_title</th>\n",
       "      <th>emp_salary</th>\n",
       "    </tr>\n",
       "  </thead>\n",
       "  <tbody>\n",
       "    <tr>\n",
       "      <td>1</td>\n",
       "      <td>Staff</td>\n",
       "      <td>65828</td>\n",
       "    </tr>\n",
       "    <tr>\n",
       "      <td>6</td>\n",
       "      <td>Staff</td>\n",
       "      <td>78228</td>\n",
       "    </tr>\n",
       "    <tr>\n",
       "      <td>9</td>\n",
       "      <td>Staff</td>\n",
       "      <td>56724</td>\n",
       "    </tr>\n",
       "    <tr>\n",
       "      <td>15</td>\n",
       "      <td>Staff</td>\n",
       "      <td>42365</td>\n",
       "    </tr>\n",
       "    <tr>\n",
       "      <td>21</td>\n",
       "      <td>Staff</td>\n",
       "      <td>70889</td>\n",
       "    </tr>\n",
       "    <tr>\n",
       "      <td>23</td>\n",
       "      <td>Staff</td>\n",
       "      <td>71380</td>\n",
       "    </tr>\n",
       "    <tr>\n",
       "      <td>26</td>\n",
       "      <td>Staff</td>\n",
       "      <td>44276</td>\n",
       "    </tr>\n",
       "    <tr>\n",
       "      <td>47</td>\n",
       "      <td>Staff</td>\n",
       "      <td>47561</td>\n",
       "    </tr>\n",
       "    <tr>\n",
       "      <td>54</td>\n",
       "      <td>Staff</td>\n",
       "      <td>40000</td>\n",
       "    </tr>\n",
       "    <tr>\n",
       "      <td>56</td>\n",
       "      <td>Staff</td>\n",
       "      <td>40000</td>\n",
       "    </tr>\n",
       "  </tbody>\n",
       "</table>\n",
       "</div>"
      ],
      "text/plain": [
       "   emp_title  emp_salary\n",
       "1      Staff       65828\n",
       "6      Staff       78228\n",
       "9      Staff       56724\n",
       "15     Staff       42365\n",
       "21     Staff       70889\n",
       "23     Staff       71380\n",
       "26     Staff       44276\n",
       "47     Staff       47561\n",
       "54     Staff       40000\n",
       "56     Staff       40000"
      ]
     },
     "execution_count": 96,
     "metadata": {},
     "output_type": "execute_result"
    }
   ],
   "source": [
    "# Display the first 10 rows of the DataFrame:\n",
    "\n",
    "reduced_df_Staff.head(10)"
   ]
  },
  {
   "cell_type": "code",
   "execution_count": 97,
   "metadata": {},
   "outputs": [
    {
     "data": {
      "text/plain": [
       "(107391, 2)"
      ]
     },
     "execution_count": 97,
     "metadata": {},
     "output_type": "execute_result"
    }
   ],
   "source": [
    "# Display the shape of the DataFrame:\n",
    "\n",
    "reduced_df_Staff.shape"
   ]
  },
  {
   "cell_type": "code",
   "execution_count": 98,
   "metadata": {},
   "outputs": [
    {
     "data": {
      "image/png": "[encoded data removed]",
      "text/plain": [
       "<Figure size 432x288 with 1 Axes>"
      ]
     },
     "metadata": {
      "needs_background": "light"
     },
     "output_type": "display_data"
    }
   ],
   "source": [
    "# Display a Histogram for the Employee Salaries within the DataFrame:\n",
    "ax = reduced_df_Staff.plot.hist(bins=10, alpha=0.5, color = \"m\")\n",
    "\n",
    "# Assign a label to the X Axis:\n",
    "plt.xlabel(\"Employee Salary ($)\")\n",
    "\n",
    "# Assign a label to the Y Axis:\n",
    "plt.ylabel(\"Frequency (Count)\")\n",
    "\n",
    "# Assign a title to the Histogram:\n",
    "plt.title(\"Salary($) Histogram for \\n Employee Title = Staff\")\n",
    "\n",
    "# Save the Histogram:\n",
    "plt.savefig(\"Output/HISTOGRAM_Salary_Staff.png\")\n",
    "\n",
    "# Display the Histogram:\n",
    "plt.show()"
   ]
  },
  {
   "cell_type": "code",
   "execution_count": null,
   "metadata": {},
   "outputs": [],
   "source": []
  },
  {
   "cell_type": "code",
   "execution_count": 99,
   "metadata": {},
   "outputs": [],
   "source": [
    "## ==============================================================\n",
    "## HISTOGRAM OF SALARIES FOR EMPLOYEE TITLE = SENIOR STAFF \n",
    "## =============================================================="
   ]
  },
  {
   "cell_type": "code",
   "execution_count": 100,
   "metadata": {},
   "outputs": [],
   "source": [
    "# Create a DataFrame:\n",
    "\n",
    "reduced_df_Senior_Staff = reduced_salaries_titles_df.loc[reduced_salaries_titles_df[\"emp_title\"] == \"Senior Staff\", :]"
   ]
  },
  {
   "cell_type": "code",
   "execution_count": 101,
   "metadata": {},
   "outputs": [
    {
     "data": {
      "text/html": [
       "<div>\n",
       "<style scoped>\n",
       "    .dataframe tbody tr th:only-of-type {\n",
       "        vertical-align: middle;\n",
       "    }\n",
       "\n",
       "    .dataframe tbody tr th {\n",
       "        vertical-align: top;\n",
       "    }\n",
       "\n",
       "    .dataframe thead th {\n",
       "        text-align: right;\n",
       "    }\n",
       "</style>\n",
       "<table border=\"1\" class=\"dataframe\">\n",
       "  <thead>\n",
       "    <tr style=\"text-align: right;\">\n",
       "      <th></th>\n",
       "      <th>emp_title</th>\n",
       "      <th>emp_salary</th>\n",
       "    </tr>\n",
       "  </thead>\n",
       "  <tbody>\n",
       "    <tr>\n",
       "      <td>5</td>\n",
       "      <td>Senior Staff</td>\n",
       "      <td>78228</td>\n",
       "    </tr>\n",
       "    <tr>\n",
       "      <td>8</td>\n",
       "      <td>Senior Staff</td>\n",
       "      <td>56724</td>\n",
       "    </tr>\n",
       "    <tr>\n",
       "      <td>18</td>\n",
       "      <td>Senior Staff</td>\n",
       "      <td>40000</td>\n",
       "    </tr>\n",
       "    <tr>\n",
       "      <td>20</td>\n",
       "      <td>Senior Staff</td>\n",
       "      <td>40000</td>\n",
       "    </tr>\n",
       "    <tr>\n",
       "      <td>22</td>\n",
       "      <td>Senior Staff</td>\n",
       "      <td>71380</td>\n",
       "    </tr>\n",
       "    <tr>\n",
       "      <td>50</td>\n",
       "      <td>Senior Staff</td>\n",
       "      <td>42819</td>\n",
       "    </tr>\n",
       "    <tr>\n",
       "      <td>53</td>\n",
       "      <td>Senior Staff</td>\n",
       "      <td>40000</td>\n",
       "    </tr>\n",
       "    <tr>\n",
       "      <td>55</td>\n",
       "      <td>Senior Staff</td>\n",
       "      <td>40000</td>\n",
       "    </tr>\n",
       "    <tr>\n",
       "      <td>59</td>\n",
       "      <td>Senior Staff</td>\n",
       "      <td>56893</td>\n",
       "    </tr>\n",
       "    <tr>\n",
       "      <td>61</td>\n",
       "      <td>Senior Staff</td>\n",
       "      <td>81662</td>\n",
       "    </tr>\n",
       "  </tbody>\n",
       "</table>\n",
       "</div>"
      ],
      "text/plain": [
       "       emp_title  emp_salary\n",
       "5   Senior Staff       78228\n",
       "8   Senior Staff       56724\n",
       "18  Senior Staff       40000\n",
       "20  Senior Staff       40000\n",
       "22  Senior Staff       71380\n",
       "50  Senior Staff       42819\n",
       "53  Senior Staff       40000\n",
       "55  Senior Staff       40000\n",
       "59  Senior Staff       56893\n",
       "61  Senior Staff       81662"
      ]
     },
     "execution_count": 101,
     "metadata": {},
     "output_type": "execute_result"
    }
   ],
   "source": [
    "# Display the first 10 rows of the DataFrame:\n",
    "\n",
    "reduced_df_Senior_Staff.head(10)"
   ]
  },
  {
   "cell_type": "code",
   "execution_count": 102,
   "metadata": {},
   "outputs": [
    {
     "data": {
      "text/plain": [
       "(92853, 2)"
      ]
     },
     "execution_count": 102,
     "metadata": {},
     "output_type": "execute_result"
    }
   ],
   "source": [
    "# Display the shape of the DataFrame:\n",
    "\n",
    "reduced_df_Senior_Staff.shape"
   ]
  },
  {
   "cell_type": "code",
   "execution_count": 103,
   "metadata": {},
   "outputs": [
    {
     "data": {
      "image/png": "[encoded data removed]",
      "text/plain": [
       "<Figure size 432x288 with 1 Axes>"
      ]
     },
     "metadata": {
      "needs_background": "light"
     },
     "output_type": "display_data"
    }
   ],
   "source": [
    "# Display a Histogram for the Employee Salaries within the DataFrame:\n",
    "ax = reduced_df_Senior_Staff.plot.hist(bins=10, alpha=0.5, color = \"orange\")\n",
    "\n",
    "# Assign a label to the X Axis:\n",
    "plt.xlabel(\"Employee Salary ($)\")\n",
    "\n",
    "# Assign a label to the Y Axis:\n",
    "plt.ylabel(\"Frequency (Count)\")\n",
    "\n",
    "# Assign a title to the Histogram:\n",
    "plt.title(\"Salary($) Histogram for \\n Employee Title = Senior Staff\")\n",
    "\n",
    "# Save the Histogram:\n",
    "plt.savefig(\"Output/HISTOGRAM_Salary_Senior_Staff.png\")\n",
    "\n",
    "# Display the Histogram:\n",
    "plt.show()"
   ]
  },
  {
   "cell_type": "code",
   "execution_count": null,
   "metadata": {},
   "outputs": [],
   "source": []
  },
  {
   "cell_type": "code",
   "execution_count": 104,
   "metadata": {},
   "outputs": [],
   "source": [
    "## ==============================================================\n",
    "## HISTOGRAM OF SALARIES FOR EMPLOYEE TITLE = TECHNIQUE LEADER\n",
    "## =============================================================="
   ]
  },
  {
   "cell_type": "code",
   "execution_count": 105,
   "metadata": {},
   "outputs": [],
   "source": [
    "# Create a DataFrame:\n",
    "\n",
    "reduced_df_Technique_Leader = reduced_salaries_titles_df.loc[reduced_salaries_titles_df[\"emp_title\"] == \"Technique Leader\", :]"
   ]
  },
  {
   "cell_type": "code",
   "execution_count": 106,
   "metadata": {},
   "outputs": [
    {
     "data": {
      "text/html": [
       "<div>\n",
       "<style scoped>\n",
       "    .dataframe tbody tr th:only-of-type {\n",
       "        vertical-align: middle;\n",
       "    }\n",
       "\n",
       "    .dataframe tbody tr th {\n",
       "        vertical-align: top;\n",
       "    }\n",
       "\n",
       "    .dataframe thead th {\n",
       "        text-align: right;\n",
       "    }\n",
       "</style>\n",
       "<table border=\"1\" class=\"dataframe\">\n",
       "  <thead>\n",
       "    <tr style=\"text-align: right;\">\n",
       "      <th></th>\n",
       "      <th>emp_title</th>\n",
       "      <th>emp_salary</th>\n",
       "    </tr>\n",
       "  </thead>\n",
       "  <tbody>\n",
       "    <tr>\n",
       "      <td>28</td>\n",
       "      <td>Technique Leader</td>\n",
       "      <td>55025</td>\n",
       "    </tr>\n",
       "    <tr>\n",
       "      <td>32</td>\n",
       "      <td>Technique Leader</td>\n",
       "      <td>40000</td>\n",
       "    </tr>\n",
       "    <tr>\n",
       "      <td>46</td>\n",
       "      <td>Technique Leader</td>\n",
       "      <td>51258</td>\n",
       "    </tr>\n",
       "    <tr>\n",
       "      <td>65</td>\n",
       "      <td>Technique Leader</td>\n",
       "      <td>40919</td>\n",
       "    </tr>\n",
       "    <tr>\n",
       "      <td>105</td>\n",
       "      <td>Technique Leader</td>\n",
       "      <td>67932</td>\n",
       "    </tr>\n",
       "    <tr>\n",
       "      <td>106</td>\n",
       "      <td>Technique Leader</td>\n",
       "      <td>55999</td>\n",
       "    </tr>\n",
       "    <tr>\n",
       "      <td>111</td>\n",
       "      <td>Technique Leader</td>\n",
       "      <td>61714</td>\n",
       "    </tr>\n",
       "    <tr>\n",
       "      <td>116</td>\n",
       "      <td>Technique Leader</td>\n",
       "      <td>53492</td>\n",
       "    </tr>\n",
       "    <tr>\n",
       "      <td>179</td>\n",
       "      <td>Technique Leader</td>\n",
       "      <td>42284</td>\n",
       "    </tr>\n",
       "    <tr>\n",
       "      <td>190</td>\n",
       "      <td>Technique Leader</td>\n",
       "      <td>40000</td>\n",
       "    </tr>\n",
       "  </tbody>\n",
       "</table>\n",
       "</div>"
      ],
      "text/plain": [
       "            emp_title  emp_salary\n",
       "28   Technique Leader       55025\n",
       "32   Technique Leader       40000\n",
       "46   Technique Leader       51258\n",
       "65   Technique Leader       40919\n",
       "105  Technique Leader       67932\n",
       "106  Technique Leader       55999\n",
       "111  Technique Leader       61714\n",
       "116  Technique Leader       53492\n",
       "179  Technique Leader       42284\n",
       "190  Technique Leader       40000"
      ]
     },
     "execution_count": 106,
     "metadata": {},
     "output_type": "execute_result"
    }
   ],
   "source": [
    "# Display the first 10 rows of the DataFrame:\n",
    "\n",
    "reduced_df_Technique_Leader.head(10)"
   ]
  },
  {
   "cell_type": "code",
   "execution_count": 107,
   "metadata": {},
   "outputs": [
    {
     "data": {
      "text/plain": [
       "(15159, 2)"
      ]
     },
     "execution_count": 107,
     "metadata": {},
     "output_type": "execute_result"
    }
   ],
   "source": [
    "# Display the shape of the DataFrame:\n",
    "\n",
    "reduced_df_Technique_Leader.shape"
   ]
  },
  {
   "cell_type": "code",
   "execution_count": 108,
   "metadata": {},
   "outputs": [
    {
     "data": {
      "image/png": "[encoded data removed]",
      "text/plain": [
       "<Figure size 432x288 with 1 Axes>"
      ]
     },
     "metadata": {
      "needs_background": "light"
     },
     "output_type": "display_data"
    }
   ],
   "source": [
    "# Display a Histogram for the Employee Salaries within the DataFrame:\n",
    "ax = reduced_df_Technique_Leader.plot.hist(bins=10, alpha=0.5, color = \"brown\")\n",
    "\n",
    "# Assign a label to the X Axis:\n",
    "plt.xlabel(\"Employee Salary ($)\")\n",
    "\n",
    "# Assign a label to the Y Axis:\n",
    "plt.ylabel(\"Frequency (Count)\")\n",
    "\n",
    "# Assign a title to the Histogram:\n",
    "plt.title(\"Salary($) Histogram for \\n Employee Title = Technique Leader\")\n",
    "\n",
    "# Save the Histogram:\n",
    "plt.savefig(\"Output/HISTOGRAM_Salary_Technique_leader.png\")\n",
    "\n",
    "# Display the Histogram:\n",
    "plt.show()"
   ]
  },
  {
   "cell_type": "code",
   "execution_count": null,
   "metadata": {},
   "outputs": [],
   "source": []
  },
  {
   "cell_type": "code",
   "execution_count": 109,
   "metadata": {},
   "outputs": [],
   "source": [
    "## ==============================================================\n",
    "## HISTOGRAM OF SALARIES FOR EMPLOYEE TITLE = MANAGER \n",
    "## =============================================================="
   ]
  },
  {
   "cell_type": "code",
   "execution_count": 110,
   "metadata": {},
   "outputs": [],
   "source": [
    "# Create a DataFrame:\n",
    "\n",
    "reduced_df_Manager = reduced_salaries_titles_df.loc[reduced_salaries_titles_df[\"emp_title\"] == \"Manager\", :]"
   ]
  },
  {
   "cell_type": "code",
   "execution_count": 111,
   "metadata": {},
   "outputs": [
    {
     "data": {
      "text/html": [
       "<div>\n",
       "<style scoped>\n",
       "    .dataframe tbody tr th:only-of-type {\n",
       "        vertical-align: middle;\n",
       "    }\n",
       "\n",
       "    .dataframe tbody tr th {\n",
       "        vertical-align: top;\n",
       "    }\n",
       "\n",
       "    .dataframe thead th {\n",
       "        text-align: right;\n",
       "    }\n",
       "</style>\n",
       "<table border=\"1\" class=\"dataframe\">\n",
       "  <thead>\n",
       "    <tr style=\"text-align: right;\">\n",
       "      <th></th>\n",
       "      <th>emp_title</th>\n",
       "      <th>emp_salary</th>\n",
       "    </tr>\n",
       "  </thead>\n",
       "  <tbody>\n",
       "    <tr>\n",
       "      <td>148135</td>\n",
       "      <td>Manager</td>\n",
       "      <td>71166</td>\n",
       "    </tr>\n",
       "    <tr>\n",
       "      <td>148137</td>\n",
       "      <td>Manager</td>\n",
       "      <td>69941</td>\n",
       "    </tr>\n",
       "    <tr>\n",
       "      <td>148139</td>\n",
       "      <td>Manager</td>\n",
       "      <td>60026</td>\n",
       "    </tr>\n",
       "    <tr>\n",
       "      <td>148141</td>\n",
       "      <td>Manager</td>\n",
       "      <td>52070</td>\n",
       "    </tr>\n",
       "    <tr>\n",
       "      <td>148143</td>\n",
       "      <td>Manager</td>\n",
       "      <td>48291</td>\n",
       "    </tr>\n",
       "    <tr>\n",
       "      <td>148145</td>\n",
       "      <td>Manager</td>\n",
       "      <td>40000</td>\n",
       "    </tr>\n",
       "    <tr>\n",
       "      <td>148147</td>\n",
       "      <td>Manager</td>\n",
       "      <td>42093</td>\n",
       "    </tr>\n",
       "    <tr>\n",
       "      <td>148149</td>\n",
       "      <td>Manager</td>\n",
       "      <td>50365</td>\n",
       "    </tr>\n",
       "    <tr>\n",
       "      <td>148152</td>\n",
       "      <td>Manager</td>\n",
       "      <td>40000</td>\n",
       "    </tr>\n",
       "    <tr>\n",
       "      <td>148155</td>\n",
       "      <td>Manager</td>\n",
       "      <td>40000</td>\n",
       "    </tr>\n",
       "  </tbody>\n",
       "</table>\n",
       "</div>"
      ],
      "text/plain": [
       "       emp_title  emp_salary\n",
       "148135   Manager       71166\n",
       "148137   Manager       69941\n",
       "148139   Manager       60026\n",
       "148141   Manager       52070\n",
       "148143   Manager       48291\n",
       "148145   Manager       40000\n",
       "148147   Manager       42093\n",
       "148149   Manager       50365\n",
       "148152   Manager       40000\n",
       "148155   Manager       40000"
      ]
     },
     "execution_count": 111,
     "metadata": {},
     "output_type": "execute_result"
    }
   ],
   "source": [
    "# Display the first 10 rows of the DataFrame:\n",
    "\n",
    "reduced_df_Manager.head(10)"
   ]
  },
  {
   "cell_type": "code",
   "execution_count": 112,
   "metadata": {},
   "outputs": [
    {
     "data": {
      "text/plain": [
       "(24, 2)"
      ]
     },
     "execution_count": 112,
     "metadata": {},
     "output_type": "execute_result"
    }
   ],
   "source": [
    "# Display the shape of the DataFrame:\n",
    "\n",
    "reduced_df_Manager.shape"
   ]
  },
  {
   "cell_type": "code",
   "execution_count": 113,
   "metadata": {},
   "outputs": [
    {
     "data": {
      "image/png": "[encoded data removed]",
      "text/plain": [
       "<Figure size 432x288 with 1 Axes>"
      ]
     },
     "metadata": {
      "needs_background": "light"
     },
     "output_type": "display_data"
    }
   ],
   "source": [
    "# Display a Histogram for the Employee Salaries within the DataFrame:\n",
    "ax = reduced_df_Manager.plot.hist(bins=10, alpha=0.5, color = \"purple\")\n",
    "\n",
    "# Assign a label to the X Axis:\n",
    "plt.xlabel(\"Employee Salary ($)\")\n",
    "\n",
    "# Assign a label to the Y Axis:\n",
    "plt.ylabel(\"Frequency (Count)\")\n",
    "\n",
    "# Assign a title to the Histogram:\n",
    "plt.title(\"Salary($) Histogram for \\n Employee Title = Manager\")\n",
    "\n",
    "# Save the Histogram:\n",
    "plt.savefig(\"Output/HISTOGRAM_Salary_Manager.png\")\n",
    "\n",
    "# Display the Histogram:\n",
    "plt.show()"
   ]
  },
  {
   "cell_type": "code",
   "execution_count": null,
   "metadata": {},
   "outputs": [],
   "source": []
  },
  {
   "cell_type": "code",
   "execution_count": 114,
   "metadata": {},
   "outputs": [],
   "source": [
    "## ==============================================================\n",
    "## HISTOGRAM OF SALARIES FOR ALL EMPLOYEE TITLES \n",
    "## =============================================================="
   ]
  },
  {
   "cell_type": "code",
   "execution_count": 115,
   "metadata": {},
   "outputs": [
    {
     "data": {
      "text/html": [
       "<div>\n",
       "<style scoped>\n",
       "    .dataframe tbody tr th:only-of-type {\n",
       "        vertical-align: middle;\n",
       "    }\n",
       "\n",
       "    .dataframe tbody tr th {\n",
       "        vertical-align: top;\n",
       "    }\n",
       "\n",
       "    .dataframe thead th {\n",
       "        text-align: right;\n",
       "    }\n",
       "</style>\n",
       "<table border=\"1\" class=\"dataframe\">\n",
       "  <thead>\n",
       "    <tr style=\"text-align: right;\">\n",
       "      <th></th>\n",
       "      <th>emp_title</th>\n",
       "      <th>emp_salary</th>\n",
       "    </tr>\n",
       "  </thead>\n",
       "  <tbody>\n",
       "    <tr>\n",
       "      <td>0</td>\n",
       "      <td>Senior Engineer</td>\n",
       "      <td>60117</td>\n",
       "    </tr>\n",
       "    <tr>\n",
       "      <td>1</td>\n",
       "      <td>Staff</td>\n",
       "      <td>65828</td>\n",
       "    </tr>\n",
       "    <tr>\n",
       "      <td>2</td>\n",
       "      <td>Senior Engineer</td>\n",
       "      <td>40006</td>\n",
       "    </tr>\n",
       "    <tr>\n",
       "      <td>3</td>\n",
       "      <td>Engineer</td>\n",
       "      <td>40054</td>\n",
       "    </tr>\n",
       "    <tr>\n",
       "      <td>4</td>\n",
       "      <td>Senior Engineer</td>\n",
       "      <td>40054</td>\n",
       "    </tr>\n",
       "    <tr>\n",
       "      <td>5</td>\n",
       "      <td>Senior Staff</td>\n",
       "      <td>78228</td>\n",
       "    </tr>\n",
       "    <tr>\n",
       "      <td>6</td>\n",
       "      <td>Staff</td>\n",
       "      <td>78228</td>\n",
       "    </tr>\n",
       "    <tr>\n",
       "      <td>7</td>\n",
       "      <td>Senior Engineer</td>\n",
       "      <td>40000</td>\n",
       "    </tr>\n",
       "    <tr>\n",
       "      <td>8</td>\n",
       "      <td>Senior Staff</td>\n",
       "      <td>56724</td>\n",
       "    </tr>\n",
       "    <tr>\n",
       "      <td>9</td>\n",
       "      <td>Staff</td>\n",
       "      <td>56724</td>\n",
       "    </tr>\n",
       "  </tbody>\n",
       "</table>\n",
       "</div>"
      ],
      "text/plain": [
       "         emp_title  emp_salary\n",
       "0  Senior Engineer       60117\n",
       "1            Staff       65828\n",
       "2  Senior Engineer       40006\n",
       "3         Engineer       40054\n",
       "4  Senior Engineer       40054\n",
       "5     Senior Staff       78228\n",
       "6            Staff       78228\n",
       "7  Senior Engineer       40000\n",
       "8     Senior Staff       56724\n",
       "9            Staff       56724"
      ]
     },
     "execution_count": 115,
     "metadata": {},
     "output_type": "execute_result"
    }
   ],
   "source": [
    "# Display the first 10 rows of the DataFrame:\n",
    "\n",
    "reduced_salaries_titles_df.head(10)"
   ]
  },
  {
   "cell_type": "code",
   "execution_count": 116,
   "metadata": {},
   "outputs": [
    {
     "data": {
      "text/plain": [
       "(443308, 2)"
      ]
     },
     "execution_count": 116,
     "metadata": {},
     "output_type": "execute_result"
    }
   ],
   "source": [
    "# Display the shape of the DataFrame:\n",
    "\n",
    "reduced_salaries_titles_df.shape"
   ]
  },
  {
   "cell_type": "code",
   "execution_count": 117,
   "metadata": {},
   "outputs": [
    {
     "data": {
      "image/png": "[encoded data removed]",
      "text/plain": [
       "<Figure size 432x288 with 1 Axes>"
      ]
     },
     "metadata": {
      "needs_background": "light"
     },
     "output_type": "display_data"
    }
   ],
   "source": [
    "# Display a Histogram for the Employee Salaries within the DataFrame:\n",
    "ax = reduced_salaries_titles_df.plot.hist(bins=10, alpha=0.5, color = \"black\")\n",
    "\n",
    "# Assign a label to the X Axis:\n",
    "plt.xlabel(\"Employee Salary ($)\")\n",
    "\n",
    "# Assign a label to the Y Axis:\n",
    "plt.ylabel(\"Frequency (Count)\")\n",
    "\n",
    "# Assign a title to the Histogram:\n",
    "plt.title(\"Salary($) Histogram for \\n ALL Employee Titles\")\n",
    "\n",
    "# Save the Histogram:\n",
    "plt.savefig(\"Output/HISTOGRAM_Salary_ALL_EMPLOYEES.png\")\n",
    "\n",
    "# Display the Histogram:\n",
    "plt.show()"
   ]
  },
  {
   "cell_type": "code",
   "execution_count": null,
   "metadata": {},
   "outputs": [],
   "source": []
  },
  {
   "cell_type": "code",
   "execution_count": null,
   "metadata": {},
   "outputs": [],
   "source": [
    "## ==============================================================\n",
    "## CONCLUSIONS\n",
    "## ==============================================================\n",
    "\n",
    "\n",
    "# This is clearly a fictitious dataset:\n",
    "# 1. In the SQL_01_Analysis file we saw that for employee number 499942:\n",
    "#    (A) The first name was \"April\", and the last_name was \"FoolsDay\". \n",
    "#    (B) The hire_date is 1997-02-10, but the salary from_date is 1998-03-28. \n",
    "# 2. In this Jupyter Notebook analysis file, we see that:\n",
    "#    (A) There are only 15,128 assistant engineers, but there are 115,003 engineers.\n",
    "#        This is unintuitive, because you should have more assistant engineers than engineers.\n",
    "#    (B) The Average Salary for the Employee Title = \"Staff\" is higher than that of Employee Title = \"Manager\".\n",
    "#        This is unintuitive, because the Average Salary for the Employee Title = \"Manager\" should be higher than that of \"Staff\".\n",
    "#    (C) The Average Salary for the Employee Title = \"Staff\" is almost identical to that of Employee Title = \"Senior Staff\".\n",
    "#        This is unintuitive, because the Average Salary for the Employee Title = \"Senior Staff\" should be much higher than that of \"Staff\".\n",
    "#    (D) The Average Salary for the Employee Title = \"Engineer\" is higher than that of \"Senior Engineer\".\n",
    "#        This is unintuitive, because the Average Salary for the Employee Title = \"Senior Engineer\" should be much higher than that of \"Engineer\".\n",
    "#    (E) The Salary Histogram looks very similar for the Employee Titles Assistant Engineer, Engineer, and Senior Engineer.\n",
    "#        This is very suspicious and highly unrealistic.    \n",
    "#    (F) The Salary Histogram looks very similar for the Employee Titles Staff and Senior Staff.\n",
    "#        This is very suspicious and highly unrealistic.    "
   ]
  },
  {
   "cell_type": "code",
   "execution_count": null,
   "metadata": {},
   "outputs": [],
   "source": []
  }
 ],
 "metadata": {
  "kernelspec": {
   "display_name": "Python 3",
   "language": "python",
   "name": "python3"
  },
  "language_info": {
   "codemirror_mode": {
    "name": "ipython",
    "version": 3
   },
   "file_extension": ".py",
   "mimetype": "text/x-python",
   "name": "python",
   "nbconvert_exporter": "python",
   "pygments_lexer": "ipython3",
   "version": "3.7.4"
  }
 },
 "nbformat": 4,
 "nbformat_minor": 2
}
